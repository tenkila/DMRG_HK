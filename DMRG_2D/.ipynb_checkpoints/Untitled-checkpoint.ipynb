{
 "cells": [
  {
   "cell_type": "code",
   "execution_count": 30,
   "id": "3e827bb7",
   "metadata": {},
   "outputs": [],
   "source": [
    "import numpy as np\n",
    "from tenpy.networks.mps import MPS\n",
    "from tenpy.models.hubbard import FermiHubbardModel\n",
    "from tenpy.algorithms import dmrg\n",
    "\n",
    "def run_dmrg_2d(Lx, Ly, U, t, mu, chi_max, sweeps, charge=0):\n",
    "    # Set up model parameters for a 2D square lattice\n",
    "    model_params = {\n",
    "        'lattice': \"Square\",  # Specify the type of lattice\n",
    "        'Lx': Lx, 'Ly': Ly,   # Dimensions of the lattice\n",
    "        'U': U,\n",
    "        't': t,\n",
    "        'mu': mu,\n",
    "        'bc_MPS': 'finite',\n",
    "        'bc_y': 'open',     \n",
    "        'bc_x': 'periodic'# Boundary condition in the y-direction\n",
    "    }\n",
    "\n",
    "    model = FermiHubbardModel(model_params)\n",
    "    # Initialize with an alternating pattern of filled and empty sites appropriate for 2D\n",
    "    initial_state = []\n",
    "    for x in range(Lx):\n",
    "        for y in range(Ly):\n",
    "            if (x + y) % 2 == 0:\n",
    "                initial_state.append('up')\n",
    "            else:\n",
    "                initial_state.append('down')\n",
    "\n",
    "    # Depending on charge modify the last site\n",
    "    if charge == 1:\n",
    "        initial_state[-1] = 'full'\n",
    "    elif charge == -1:\n",
    "        initial_state[-1] = 'empty'\n",
    "\n",
    "    psi = MPS.from_product_state(model.lat.mps_sites(), initial_state, bc='finite')\n",
    "\n",
    "    dmrg_params = {\n",
    "        'mixer': True,\n",
    "        'trunc_params': {\n",
    "            'chi_max': chi_max,\n",
    "            'svd_min': 1.e-10\n",
    "        },\n",
    "        'max_sweeps': sweeps,\n",
    "    }\n",
    "\n",
    "    eng = dmrg.TwoSiteDMRGEngine(psi, model, dmrg_params)\n",
    "    E0, psi = eng.run()\n",
    "    return E0\n"
   ]
  },
  {
   "cell_type": "code",
   "execution_count": null,
   "id": "90d9fc7f",
   "metadata": {},
   "outputs": [],
   "source": [
    "Lx = 4\n",
    "Ly = 10\n",
    "U = 10\n",
    "t = 1\n",
    "mu = 0\n",
    "chi_max = 1000\n",
    "sweeps = 40\n",
    "\n",
    "run_dmrg_2d(Lx, Ly, U, t, mu, chi_max, sweeps)"
   ]
  }
 ],
 "metadata": {
  "kernelspec": {
   "display_name": "default",
   "language": "python",
   "name": "default"
  },
  "language_info": {
   "codemirror_mode": {
    "name": "ipython",
    "version": 3
   },
   "file_extension": ".py",
   "mimetype": "text/x-python",
   "name": "python",
   "nbconvert_exporter": "python",
   "pygments_lexer": "ipython3",
   "version": "3.12.3"
  }
 },
 "nbformat": 4,
 "nbformat_minor": 5
}
