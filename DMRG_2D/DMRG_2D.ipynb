{
 "cells": [
  {
   "cell_type": "code",
   "execution_count": 3,
   "id": "1f3a40ca",
   "metadata": {},
   "outputs": [],
   "source": [
    "import numpy as np\n",
    "from tenpy.networks.mps import MPS\n",
    "from tenpy.models.hubbard import FermiHubbardModel\n",
    "from tenpy.algorithms import dmrg\n",
    "\n",
    "import pickle\n",
    "import matplotlib.pyplot as plt"
   ]
  },
  {
   "cell_type": "code",
   "execution_count": 17,
   "id": "b159fdb8",
   "metadata": {},
   "outputs": [
    {
     "name": "stderr",
     "output_type": "stream",
     "text": [
      "/home/gaurav/Projects/default/lib/python3.12/site-packages/tenpy/tools/params.py:231: UserWarning: unused options for config FermiHubbardModel:\n",
      "['Lx', 'Ly', 'bc_y']\n",
      "  warnings.warn(msg.format(keys=sorted(unused), name=self.name))\n"
     ]
    },
    {
     "ename": "ValueError",
     "evalue": "Length of p_state does not match number of sites.",
     "output_type": "error",
     "traceback": [
      "\u001b[0;31m---------------------------------------------------------------------------\u001b[0m",
      "\u001b[0;31mValueError\u001b[0m                                Traceback (most recent call last)",
      "Cell \u001b[0;32mIn[17], line 55\u001b[0m\n\u001b[1;32m     52\u001b[0m chi_max \u001b[38;5;241m=\u001b[39m \u001b[38;5;241m100\u001b[39m\n\u001b[1;32m     53\u001b[0m sweeps \u001b[38;5;241m=\u001b[39m \u001b[38;5;241m10\u001b[39m\n\u001b[0;32m---> 55\u001b[0m E0, psi \u001b[38;5;241m=\u001b[39m \u001b[43mrun_dmrg_half_filling_2d\u001b[49m\u001b[43m(\u001b[49m\u001b[43mLx\u001b[49m\u001b[43m,\u001b[49m\u001b[43m \u001b[49m\u001b[43mLy\u001b[49m\u001b[43m,\u001b[49m\u001b[43m \u001b[49m\u001b[43mU\u001b[49m\u001b[43m,\u001b[49m\u001b[43m \u001b[49m\u001b[43mt\u001b[49m\u001b[43m,\u001b[49m\u001b[43m \u001b[49m\u001b[43mmu\u001b[49m\u001b[43m,\u001b[49m\u001b[43m \u001b[49m\u001b[43mchi_max\u001b[49m\u001b[43m,\u001b[49m\u001b[43m \u001b[49m\u001b[43msweeps\u001b[49m\u001b[43m)\u001b[49m\n\u001b[1;32m     56\u001b[0m \u001b[38;5;28mprint\u001b[39m(\u001b[38;5;124m\"\u001b[39m\u001b[38;5;124mGround state energy:\u001b[39m\u001b[38;5;124m\"\u001b[39m, E0)\n",
      "Cell \u001b[0;32mIn[17], line 22\u001b[0m, in \u001b[0;36mrun_dmrg_half_filling_2d\u001b[0;34m(Lx, Ly, U, t, mu, chi_max, sweeps, hc_flag)\u001b[0m\n\u001b[1;32m     20\u001b[0m \u001b[38;5;66;03m# Initialize the MPS for half-filling with an alternating pattern of up and down spins\u001b[39;00m\n\u001b[1;32m     21\u001b[0m initial_state \u001b[38;5;241m=\u001b[39m [\u001b[38;5;124m'\u001b[39m\u001b[38;5;124mup\u001b[39m\u001b[38;5;124m'\u001b[39m, \u001b[38;5;124m'\u001b[39m\u001b[38;5;124mdown\u001b[39m\u001b[38;5;124m'\u001b[39m] \u001b[38;5;241m*\u001b[39m (Lx \u001b[38;5;241m*\u001b[39m Ly \u001b[38;5;241m/\u001b[39m\u001b[38;5;241m/\u001b[39m \u001b[38;5;241m2\u001b[39m) \u001b[38;5;241m+\u001b[39m[\u001b[38;5;124m'\u001b[39m\u001b[38;5;124mup\u001b[39m\u001b[38;5;124m'\u001b[39m]\n\u001b[0;32m---> 22\u001b[0m psi \u001b[38;5;241m=\u001b[39m \u001b[43mMPS\u001b[49m\u001b[38;5;241;43m.\u001b[39;49m\u001b[43mfrom_product_state\u001b[49m\u001b[43m(\u001b[49m\u001b[43mmodel\u001b[49m\u001b[38;5;241;43m.\u001b[39;49m\u001b[43mlat\u001b[49m\u001b[38;5;241;43m.\u001b[39;49m\u001b[43mmps_sites\u001b[49m\u001b[43m(\u001b[49m\u001b[43m)\u001b[49m\u001b[43m,\u001b[49m\u001b[43m \u001b[49m\u001b[43minitial_state\u001b[49m\u001b[43m,\u001b[49m\u001b[43m \u001b[49m\u001b[43mbc\u001b[49m\u001b[38;5;241;43m=\u001b[39;49m\u001b[38;5;124;43m'\u001b[39;49m\u001b[38;5;124;43mfinite\u001b[39;49m\u001b[38;5;124;43m'\u001b[39;49m\u001b[43m)\u001b[49m\n\u001b[1;32m     24\u001b[0m dmrg_params \u001b[38;5;241m=\u001b[39m {\n\u001b[1;32m     25\u001b[0m     \u001b[38;5;124m'\u001b[39m\u001b[38;5;124mmixer\u001b[39m\u001b[38;5;124m'\u001b[39m: \u001b[38;5;28;01mTrue\u001b[39;00m,  \u001b[38;5;66;03m# Enables mixing for better convergence in difficult phases\u001b[39;00m\n\u001b[1;32m     26\u001b[0m     \u001b[38;5;124m'\u001b[39m\u001b[38;5;124mtrunc_params\u001b[39m\u001b[38;5;124m'\u001b[39m: {\n\u001b[0;32m   (...)\u001b[0m\n\u001b[1;32m     30\u001b[0m     \u001b[38;5;124m'\u001b[39m\u001b[38;5;124mmax_sweeps\u001b[39m\u001b[38;5;124m'\u001b[39m: sweeps,\n\u001b[1;32m     31\u001b[0m }\n\u001b[1;32m     33\u001b[0m \u001b[38;5;66;03m# Growing the system in x-direction with iDMRG\u001b[39;00m\n",
      "File \u001b[0;32m~/Projects/default/lib/python3.12/site-packages/tenpy/networks/mps.py:1736\u001b[0m, in \u001b[0;36mMPS.from_product_state\u001b[0;34m(cls, sites, p_state, bc, dtype, permute, form, chargeL)\u001b[0m\n\u001b[1;32m   1734\u001b[0m p_state \u001b[38;5;241m=\u001b[39m \u001b[38;5;28mlist\u001b[39m(p_state)\n\u001b[1;32m   1735\u001b[0m \u001b[38;5;28;01mif\u001b[39;00m \u001b[38;5;28mlen\u001b[39m(p_state) \u001b[38;5;241m!=\u001b[39m L:\n\u001b[0;32m-> 1736\u001b[0m     \u001b[38;5;28;01mraise\u001b[39;00m \u001b[38;5;167;01mValueError\u001b[39;00m(\u001b[38;5;124m\"\u001b[39m\u001b[38;5;124mLength of p_state does not match number of sites.\u001b[39m\u001b[38;5;124m\"\u001b[39m)\n\u001b[1;32m   1737\u001b[0m ci \u001b[38;5;241m=\u001b[39m sites[\u001b[38;5;241m0\u001b[39m]\u001b[38;5;241m.\u001b[39mleg\u001b[38;5;241m.\u001b[39mchinfo\n\u001b[1;32m   1738\u001b[0m Bs \u001b[38;5;241m=\u001b[39m []\n",
      "\u001b[0;31mValueError\u001b[0m: Length of p_state does not match number of sites."
     ]
    }
   ],
   "source": [
    "from tenpy.networks.mps import MPS\n",
    "from tenpy.algorithms import dmrg\n",
    "from tenpy.models.hubbard import FermiHubbardModel\n",
    "\n",
    "def run_dmrg_half_filling_2d(Lx, Ly, U, t, mu, chi_max, sweeps, hc_flag=False):\n",
    "    model_params = {\n",
    "        'Lx': Lx,\n",
    "        'Ly': Ly,\n",
    "        'U': U,\n",
    "        't': t,\n",
    "        'mu': mu,\n",
    "        'bc_MPS': 'finite',  # Initial boundary conditions for finite DMRG\n",
    "        'bc_x': 'open',      # Open boundaries in x-direction\n",
    "        'bc_y': 'periodic',  # Periodic boundaries in y-direction\n",
    "        'explicit_plus_hc': hc_flag\n",
    "    }\n",
    "\n",
    "    model = FermiHubbardModel(model_params)\n",
    "\n",
    "    # Initialize the MPS for half-filling with an alternating pattern of up and down spins\n",
    "    initial_state = ['up', 'down'] * (Lx * Ly // 2) +['up']\n",
    "    psi = MPS.from_product_state(model.lat.mps_sites(), initial_state, bc='finite')\n",
    "\n",
    "    dmrg_params = {\n",
    "        'mixer': True,  # Enables mixing for better convergence in difficult phases\n",
    "        'trunc_params': {\n",
    "            'chi_max': chi_max,\n",
    "            'svd_min': 1.e-10\n",
    "        },\n",
    "        'max_sweeps': sweeps,\n",
    "    }\n",
    "\n",
    "    # Growing the system in x-direction with iDMRG\n",
    "    for _ in range(Lx):\n",
    "        eng = dmrg.TwoSiteDMRGEngine(psi, model, dmrg_params)\n",
    "        E0, psi = eng.run()\n",
    "\n",
    "    # Switching to finite DMRG for the full system with PBC in y-direction\n",
    "    model_params['bc_MPS'] = 'finite'\n",
    "    model = FermiHubbardModel(model_params)\n",
    "    eng = dmrg.TwoSiteDMRGEngine(psi, model, dmrg_params)\n",
    "    E0, psi = eng.run()\n",
    "\n",
    "    return E0, psi\n",
    "\n",
    "# Example usage\n",
    "Lx = 10  # Length in x-direction\n",
    "Ly = 4   # Length in y-direction\n",
    "U = 1.0\n",
    "t = 1.0\n",
    "mu = 0.0\n",
    "chi_max = 100\n",
    "sweeps = 10\n",
    "\n",
    "E0, psi = run_dmrg_half_filling_2d(Lx, Ly, U, t, mu, chi_max, sweeps)\n",
    "print(\"Ground state energy:\", E0)\n"
   ]
  },
  {
   "cell_type": "code",
   "execution_count": null,
   "id": "70c233b4",
   "metadata": {},
   "outputs": [],
   "source": []
  }
 ],
 "metadata": {
  "kernelspec": {
   "display_name": "default",
   "language": "python",
   "name": "default"
  },
  "language_info": {
   "codemirror_mode": {
    "name": "ipython",
    "version": 3
   },
   "file_extension": ".py",
   "mimetype": "text/x-python",
   "name": "python",
   "nbconvert_exporter": "python",
   "pygments_lexer": "ipython3",
   "version": "3.12.3"
  }
 },
 "nbformat": 4,
 "nbformat_minor": 5
}
