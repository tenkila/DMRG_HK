{
 "cells": [
  {
   "cell_type": "code",
   "execution_count": 63,
   "id": "1f3a40ca",
   "metadata": {},
   "outputs": [],
   "source": [
    "import numpy as np\n",
    "from tenpy.networks.mps import MPS\n",
    "from tenpy.networks.site import SpinHalfFermionSite\n",
    "from tenpy.models.lattice import Square\n",
    "from tenpy.algorithms import dmrg\n",
    "from tenpy.models.model import CouplingModel, CouplingMPOModel\n",
    "\n",
    "import pickle\n",
    "import matplotlib.pyplot as plt"
   ]
  },
  {
   "cell_type": "code",
   "execution_count": 62,
   "id": "00fa35f6",
   "metadata": {},
   "outputs": [
    {
     "data": {
      "text/plain": [
       "['open', 'periodic']"
      ]
     },
     "execution_count": 62,
     "metadata": {},
     "output_type": "execute_result"
    }
   ],
   "source": [
    "\n",
    "# Define the lattice parameters\n",
    "Lx, Ly = 4, 4  # dimensions of the lattice\n",
    "\n",
    "# Create the SpinHalfFermionSite\n",
    "site = SpinHalfFermionSite() \n",
    "\n",
    "# Create the square lattice with the SpinHalfFermionSite\n",
    "lattice = Square(Lx, Ly, site, bc=['open', 'periodic'])\n",
    "\n",
    "\n",
    "lattice.boundary_conditions"
   ]
  },
  {
   "cell_type": "code",
   "execution_count": 64,
   "id": "de3e2d56",
   "metadata": {},
   "outputs": [
    {
     "name": "stdout",
     "output_type": "stream",
     "text": [
      "<__main__.CustomFermiHubbardModel object at 0x7b80e356bf80>\n"
     ]
    }
   ],
   "source": [
    "\n",
    "\n",
    "class CustomFermiHubbardModel(CouplingMPOModel):\n",
    "    def __init__(self, params):\n",
    "        self.tx = params.pop('tx', 1.0)\n",
    "        self.ty = params.pop('ty', 1.0)\n",
    "        self.U = params.pop('U', 1.0)\n",
    "        self.mu = params.pop('mu', 0.0)\n",
    "        super().__init__(params)\n",
    "\n",
    "    def init_terms(self, params):\n",
    "        for u1, u2, dx in self.lat.pairs['nearest_neighbors']:\n",
    "            if dx[0] != 0:  # Hopping in the x-direction\n",
    "                self.add_coupling(self.tx, u1, 'Cdu', u2, 'Cu', dx, plus_hc=True)\n",
    "                self.add_coupling(self.tx, u1, 'Cdd', u2, 'Cd', dx, plus_hc=True)\n",
    "            if dx[1] != 0:  # Hopping in the y-direction\n",
    "                self.add_coupling(self.ty, u1, 'Cdu', u2, 'Cu', dx, plus_hc=True)\n",
    "                self.add_coupling(self.ty, u1, 'Cdd', u2, 'Cd', dx, plus_hc=True)\n",
    "        for u in range(len(self.lat.unit_cell)):\n",
    "            self.add_onsite(self.U, u, 'NuNd')\n",
    "            self.add_onsite(self.mu, u, 'Ntot')\n",
    "\n",
    "# Define the model parameters\n",
    "model_params = {\n",
    "    'lattice': lattice,\n",
    "    'tx': -1.0,  # Hopping amplitude in the x-direction\n",
    "    'ty': -0.5,  # Hopping amplitude in the y-direction\n",
    "    'U': 4.0,    # On-site interaction strength\n",
    "    'mu': 0.0,   # Chemical potential\n",
    "}\n",
    "\n",
    "# Create the custom Fermi-Hubbard model\n",
    "model = CustomFermiHubbardModel(model_params)\n",
    "\n",
    "# Print the model to verify\n",
    "print(model)\n"
   ]
  },
  {
   "cell_type": "code",
   "execution_count": 65,
   "id": "18a7354a",
   "metadata": {},
   "outputs": [
    {
     "name": "stdout",
     "output_type": "stream",
     "text": [
      "Ground state energy: -0.7442795851321635\n"
     ]
    }
   ],
   "source": [
    "\n",
    "\n",
    "def run_dmrg_2d(Lx, Ly, U, tx, ty, mu, chi_max, sweeps, charge=0):\n",
    "    # Define the lattice and SpinHalfFermionSite without any conservation law for simplicity\n",
    "    site = SpinHalfFermionSite()\n",
    "    lattice = Square(Lx, Ly, site, bc=['open', 'periodic'])\n",
    "\n",
    "    # Set up the model parameters\n",
    "    model_params = {\n",
    "        'lattice': lattice,\n",
    "        'tx': tx,  # Hopping amplitude in the x-direction\n",
    "        'ty': ty,  # Hopping amplitude in the y-direction\n",
    "        'U': U,\n",
    "        'mu': mu\n",
    "    }\n",
    "\n",
    "    model = CustomFermiHubbardModel(model_params)\n",
    "\n",
    "    # Initialize with an alternating pattern of filled and empty sites appropriate for 2D\n",
    "    initial_state = []\n",
    "    for x in range(Lx):\n",
    "        for y in range(Ly):\n",
    "            if (x + y) % 2 == 0:\n",
    "                initial_state.append('up')\n",
    "            else:\n",
    "                initial_state.append('down')\n",
    "\n",
    "    # Depending on charge modify the last site\n",
    "    if charge == 1:\n",
    "        initial_state[-1] = 'full'\n",
    "    elif charge == -1:\n",
    "        initial_state[-1] = 'empty'\n",
    "\n",
    "    psi = MPS.from_product_state(model.lat.mps_sites(), initial_state, bc='finite')\n",
    "\n",
    "    dmrg_params = {\n",
    "        'mixer': True,\n",
    "        'trunc_params': {\n",
    "            'chi_max': chi_max,\n",
    "            'svd_min': 1.e-8\n",
    "        },\n",
    "        'max_sweeps': sweeps,\n",
    "    }\n",
    "\n",
    "    eng = dmrg.TwoSiteDMRGEngine(psi, model, dmrg_params)\n",
    "    E0, psi = eng.run()\n",
    "    return E0\n",
    "\n",
    "# Example usage\n",
    "Lx, Ly = 2, 4\n",
    "U = 4.0\n",
    "tx = -1.0\n",
    "ty = -1.0*np.exp(1j*np.pi/2)\n",
    "mu = 0.0\n",
    "chi_max = 1000\n",
    "sweeps = 40\n",
    "charge = 0\n",
    "\n",
    "ground_state_energy = run_dmrg_2d(Lx, Ly, U, tx, ty, mu, chi_max, sweeps, charge)/(Ly*Lx)\n",
    "print(\"Ground state energy:\", ground_state_energy)\n"
   ]
  },
  {
   "cell_type": "code",
   "execution_count": null,
   "id": "6682b702",
   "metadata": {},
   "outputs": [],
   "source": []
  }
 ],
 "metadata": {
  "kernelspec": {
   "display_name": "default",
   "language": "python",
   "name": "default"
  },
  "language_info": {
   "codemirror_mode": {
    "name": "ipython",
    "version": 3
   },
   "file_extension": ".py",
   "mimetype": "text/x-python",
   "name": "python",
   "nbconvert_exporter": "python",
   "pygments_lexer": "ipython3",
   "version": "3.12.3"
  }
 },
 "nbformat": 4,
 "nbformat_minor": 5
}
