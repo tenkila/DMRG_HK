{
 "cells": [
  {
   "cell_type": "code",
   "execution_count": 1,
   "id": "1f3a40ca",
   "metadata": {},
   "outputs": [],
   "source": [
    "import numpy as np\n",
    "from tenpy.networks.mps import MPS\n",
    "from tenpy.networks.site import SpinHalfFermionSite\n",
    "from tenpy.models.lattice import Square\n",
    "from tenpy.algorithms import dmrg\n",
    "from tenpy.models.model import CouplingModel, CouplingMPOModel\n",
    "\n",
    "import pickle, time\n",
    "import matplotlib.pyplot as plt"
   ]
  },
  {
   "cell_type": "code",
   "execution_count": 2,
   "id": "0be19fe2",
   "metadata": {},
   "outputs": [
    {
     "data": {
      "text/plain": [
       "['open', 'periodic']"
      ]
     },
     "execution_count": 2,
     "metadata": {},
     "output_type": "execute_result"
    }
   ],
   "source": [
    "\n",
    "# Define the lattice parameters\n",
    "Lx, Ly = 4, 4  # dimensions of the lattice\n",
    "\n",
    "# Create the SpinHalfFermionSite\n",
    "site = SpinHalfFermionSite() \n",
    "\n",
    "# Create the square lattice with the SpinHalfFermionSite\n",
    "lattice = Square(Lx, Ly, site, bc=['open', 'periodic'])\n",
    "\n",
    "\n",
    "lattice.boundary_conditions"
   ]
  },
  {
   "cell_type": "code",
   "execution_count": 6,
   "id": "d08e862d",
   "metadata": {},
   "outputs": [
    {
     "name": "stdout",
     "output_type": "stream",
     "text": [
      "<__main__.CustomFermiHubbardModel object at 0x72ff31b25e50>\n"
     ]
    }
   ],
   "source": [
    "\n",
    "\n",
    "class CustomFermiHubbardModel(CouplingMPOModel):\n",
    "    def __init__(self, params):\n",
    "        self.tx = params.pop('tx', 1.0)\n",
    "        self.ty = params.pop('ty', 1.0)\n",
    "        self.U = params.pop('U', 1.0)\n",
    "        self.mu = params.pop('mu', 0.0)\n",
    "        super().__init__(params)\n",
    "\n",
    "    def init_terms(self, params):\n",
    "        for u1, u2, dx in self.lat.pairs['nearest_neighbors']:\n",
    "            if dx[0] != 0:  # Hopping in the x-direction\n",
    "                self.add_coupling(-self.tx, u1, 'Cdu', u2, 'Cu', dx, plus_hc=True)\n",
    "                self.add_coupling(-self.tx, u1, 'Cdd', u2, 'Cd', dx, plus_hc=True)\n",
    "            if dx[1] != 0:  # Hopping in the y-direction\n",
    "                self.add_coupling(-self.ty, u1, 'Cdu', u2, 'Cu', dx, plus_hc=True)\n",
    "                self.add_coupling(-self.ty, u1, 'Cdd', u2, 'Cd', dx, plus_hc=True)\n",
    "        for u in range(len(self.lat.unit_cell)):\n",
    "            self.add_onsite(self.U, u, 'NuNd')\n",
    "            self.add_onsite(self.mu, u, 'Ntot')\n",
    "\n",
    "# Define the model parameters\n",
    "model_params = {\n",
    "    'lattice': lattice,\n",
    "    'tx': -1.0,  # Hopping amplitude in the x-direction\n",
    "    'ty': -0.5,  # Hopping amplitude in the y-direction\n",
    "    'U': 4.0,    # On-site interaction strength\n",
    "    'mu': 0.0,   # Chemical potential\n",
    "}\n",
    "\n",
    "# Create the custom Fermi-Hubbard model\n",
    "model = CustomFermiHubbardModel(model_params)\n",
    "\n",
    "# Print the model to verify\n",
    "print(model)\n"
   ]
  },
  {
   "cell_type": "code",
   "execution_count": 8,
   "id": "d9ac53f5",
   "metadata": {},
   "outputs": [
    {
     "name": "stdout",
     "output_type": "stream",
     "text": [
      "0.6183679103851318\n",
      "Ground state energy: -1.2504298553379927\n"
     ]
    }
   ],
   "source": [
    "\n",
    "\n",
    "def run_dmrg_2d(Lx, Ly, U, tx, ty, mu, chi_max, sweeps, charge=0):\n",
    "    # Define the lattice and SpinHalfFermionSite without any conservation law for simplicity\n",
    "    site = SpinHalfFermionSite()\n",
    "    lattice = Square(Lx, Ly, site, bc=['open', 'periodic'], order='default')\n",
    "\n",
    "    # Set up the model parameters\n",
    "    model_params = {\n",
    "        'lattice': lattice,\n",
    "        'tx': tx,  # Hopping amplitude in the x-direction\n",
    "        'ty': ty,  # Hopping amplitude in the y-direction\n",
    "        'U': U,\n",
    "        'mu': mu\n",
    "    }\n",
    "\n",
    "    model = CustomFermiHubbardModel(model_params)\n",
    "\n",
    "    # Initialize with an alternating pattern of filled and empty sites appropriate for 2D\n",
    "    initial_state = []\n",
    "    for x in range(Lx):\n",
    "        for y in range(Ly):\n",
    "            if (x + y) % 2 == 0:\n",
    "                initial_state.append('up')\n",
    "            else:\n",
    "                initial_state.append('down')\n",
    "\n",
    "    # Depending on charge modify the last site\n",
    "    if charge == 1:\n",
    "        initial_state[-1] = 'full'\n",
    "    elif charge == -1:\n",
    "        initial_state[-1] = 'empty'\n",
    "\n",
    "    psi = MPS.from_product_state(model.lat.mps_sites(), initial_state, bc='finite')\n",
    "\n",
    "    dmrg_params = {\n",
    "        'mixer': True,\n",
    "        'trunc_params': {\n",
    "            'chi_max': chi_max,\n",
    "            'svd_min': 1.e-7\n",
    "        },\n",
    "        'max_sweeps': sweeps,\n",
    "    }\n",
    "\n",
    "    eng = dmrg.TwoSiteDMRGEngine(psi, model, dmrg_params)\n",
    "    E0, psi = eng.run()\n",
    "    return E0\n",
    "\n",
    "# Example usage\n",
    "Lx, Ly = 2, 2\n",
    "U = 4\n",
    "tx = 1.0\n",
    "ty = 1.0\n",
    "mu = 0.0\n",
    "chi_max = 2000\n",
    "sweeps = 60\n",
    "charge = 0\n",
    "\n",
    "st_time = time.time()\n",
    "\n",
    "ground_state_energy = run_dmrg_2d(Lx, Ly, U, tx, ty, mu, chi_max, sweeps, charge)/(Ly*Lx)\n",
    "\n",
    "print(str(time.time()-st_time))\n",
    "print(\"Ground state energy:\", ground_state_energy)\n"
   ]
  },
  {
   "cell_type": "code",
   "execution_count": 4,
   "id": "de89097b",
   "metadata": {},
   "outputs": [
    {
     "data": {
      "text/plain": [
       "<matplotlib.collections.PathCollection at 0x7108f0f3e900>"
      ]
     },
     "execution_count": 4,
     "metadata": {},
     "output_type": "execute_result"
    },
    {
     "data": {
      "image/png": "[encoded data removed]",
      "text/plain": [
       "<Figure size 640x480 with 1 Axes>"
      ]
     },
     "metadata": {},
     "output_type": "display_data"
    }
   ],
   "source": [
    "#Time scaling for Ly = 4\n",
    "L_vals = np.array([4, 6, 8])\n",
    "time_scaling = np.array([303.77138781547546, 809.2236495018005, 5669.86])\n",
    "\n",
    "plt.scatter(np.log(L_vals), np.log(time_scaling))"
   ]
  },
  {
   "cell_type": "code",
   "execution_count": 6,
   "id": "e57bfecb",
   "metadata": {},
   "outputs": [
    {
     "data": {
      "text/plain": [
       "<matplotlib.collections.PathCollection at 0x7108ebb84f80>"
      ]
     },
     "execution_count": 6,
     "metadata": {},
     "output_type": "execute_result"
    },
    {
     "data": {
      "image/png": "[encoded data removed]",
      "text/plain": [
       "<Figure size 640x480 with 1 Axes>"
      ]
     },
     "metadata": {},
     "output_type": "display_data"
    }
   ],
   "source": [
    "L_vals = np.array([2, 4, 6, 8, 10])\n",
    "time_scaling = np.array([0.6764464378356934, 7.467154026031494, 32.66263818740845, 66.7620837688446, 135.9267439842224])\n",
    "\n",
    "\n",
    "plt.scatter(np.log(L_vals), np.log(time_scaling))\n"
   ]
  },
  {
   "cell_type": "code",
   "execution_count": 7,
   "id": "166a28ae",
   "metadata": {},
   "outputs": [
    {
     "data": {
      "image/png": "[encoded data removed]",
      "text/plain": [
       "<Figure size 640x480 with 1 Axes>"
      ]
     },
     "metadata": {},
     "output_type": "display_data"
    }
   ],
   "source": [
    "import numpy as np\n",
    "import matplotlib.pyplot as plt\n",
    "\n",
    "\n",
    "# Log-transform the data\n",
    "log_L_vals = np.log(L_vals)\n",
    "log_time_scaling = np.log(time_scaling)\n",
    "\n",
    "# Perform a linear fit on the log-transformed data\n",
    "coefficients = np.polyfit(log_L_vals, log_time_scaling, 1)\n",
    "slope, intercept = coefficients\n",
    "\n",
    "# Generate fitted values\n",
    "fitted_values = np.polyval(coefficients, log_L_vals)\n",
    "\n",
    "# Plot the data points and the linear fit\n",
    "plt.scatter(log_L_vals, log_time_scaling, label='Data Points')\n",
    "plt.plot(log_L_vals, fitted_values, color='red', label=f'Linear Fit: y = {slope:.2f}x + {intercept:.2f}')\n",
    "plt.xlabel('log(L_vals)')\n",
    "plt.ylabel('log(time_scaling)')\n",
    "plt.legend()\n",
    "plt.show()\n"
   ]
  },
  {
   "cell_type": "code",
   "execution_count": 22,
   "id": "a8d570c1",
   "metadata": {},
   "outputs": [
    {
     "name": "stdout",
     "output_type": "stream",
     "text": [
      "2 2\n",
      "3.7624311447143555\n",
      "[[-0.87413816]]\n"
     ]
    }
   ],
   "source": [
    "U = 6.0  \n",
    "t = 1.0\n",
    "mu = 0  # Chemical potential (often set to 0 for simplicity at half filling)\n",
    "chi_max = 2000  # Maximum bond dimension\n",
    "sweeps = 40  # Number of DMRG sweeps\n",
    "k_num = 10\n",
    "\n",
    "Lx_list = [2]\n",
    "Ly_list = [2]\n",
    "GS_list = np.zeros(shape=(len(Lx_list), len(Ly_list)))\n",
    "\n",
    "time_list = np.zeros(shape=(len(Lx_list), len(Ly_list)))\n",
    "for i, Lx in enumerate(Lx_list):\n",
    "    for j, Ly in enumerate(Ly_list):\n",
    "        print(Lx, Ly)\n",
    "        st_time_ind = time.time()\n",
    "        energy_arr = np.zeros(k_num)\n",
    "        for ky in range(-int(k_num/2), int(k_num/2)):\n",
    "            ty = t*np.exp(1j*ky/k_num*np.pi/Ly)\n",
    "            tx = t\n",
    "            ground_state_energy = run_dmrg_2d(Lx, Ly, U, tx, ty, mu, chi_max, sweeps)/Ly\n",
    "            energy_arr[ky+int(k_num/2)] = ground_state_energy\n",
    "        GS_list[i,j] = energy_arr.mean()/Lx\n",
    "        time_list[i,j] = time.time() - st_time_ind\n",
    "        print(time_list[i,j])\n",
    "\n",
    "print(GS_list)"
   ]
  },
  {
   "cell_type": "code",
   "execution_count": null,
   "id": "0fcdaab5-7953-412c-9eef-8633ef064621",
   "metadata": {},
   "outputs": [],
   "source": [
    "GS_list"
   ]
  },
  {
   "cell_type": "code",
   "execution_count": null,
   "id": "1ac0b184-49ab-4341-a8ad-8bd5e18b764a",
   "metadata": {},
   "outputs": [],
   "source": []
  }
 ],
 "metadata": {
  "kernelspec": {
   "display_name": "default",
   "language": "python",
   "name": "default"
  },
  "language_info": {
   "codemirror_mode": {
    "name": "ipython",
    "version": 3
   },
   "file_extension": ".py",
   "mimetype": "text/x-python",
   "name": "python",
   "nbconvert_exporter": "python",
   "pygments_lexer": "ipython3",
   "version": "3.12.3"
  }
 },
 "nbformat": 4,
 "nbformat_minor": 5
}
