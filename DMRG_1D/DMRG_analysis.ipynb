{
 "cells": [
  {
   "cell_type": "code",
   "execution_count": 2,
   "id": "0c087c23",
   "metadata": {},
   "outputs": [],
   "source": [
    "import numpy as np\n",
    "import matplotlib.pyplot as plt\n",
    "import pickle\n",
    "import os\n",
    "import datetime"
   ]
  },
  {
   "cell_type": "code",
   "execution_count": 33,
   "id": "8ca6d392",
   "metadata": {},
   "outputs": [
    {
     "name": "stdout",
     "output_type": "stream",
     "text": [
      "-1.0403686533944374\n"
     ]
    }
   ],
   "source": [
    "from scipy.integrate import quad\n",
    "from scipy.special import j0, j1\n",
    "\n",
    "def integrand(omega, U):\n",
    "    return j0(omega) * j1(omega) / (omega * (1 + np.exp(2 * U * omega)))\n",
    "\n",
    "# Define the integral as a function of U\n",
    "def bethe_ground_state(U):\n",
    "    parts = [(0, 1), (1, 10), (10, 100), (100, np.inf)]  # Define subranges\n",
    "    result = 0\n",
    "    for lower, upper in parts:\n",
    "        res, _ = quad(lambda x: integrand(x, U), lower, upper)\n",
    "        result += res\n",
    "    return result * 4 * (-1)\n",
    "\n",
    "# Test the function for a specific value of U\n",
    "U = 1  # Example value for U\n",
    "print(bethe_ground_state(U/4))\n"
   ]
  },
  {
   "cell_type": "code",
   "execution_count": 6,
   "id": "07f3795f",
   "metadata": {},
   "outputs": [
    {
     "name": "stdout",
     "output_type": "stream",
     "text": [
      "U_ladder_20240604-165454.pkl\n",
      "U_ladder_20240605-183117.pkl\n",
      "U_ladder_20240604-165352.pkl\n"
     ]
    }
   ],
   "source": [
    "directory = '/home/gaurav/Projects/DMRG/output/clust_out/'\n",
    "\n",
    "\n",
    "# Get details of all files in the specified directory\n",
    "file_details = []\n",
    "for f in os.listdir(directory):\n",
    "    if os.path.isfile(os.path.join(directory, f)):\n",
    "        file_info = os.stat(os.path.join(directory, f))\n",
    "        file_details.append({\n",
    "            'name': f,\n",
    "            'size': file_info.st_size,\n",
    "            'modified': datetime.datetime.fromtimestamp(file_info.st_mtime)\n",
    "        })\n",
    "        print(f)"
   ]
  },
  {
   "cell_type": "code",
   "execution_count": 15,
   "id": "e91c4899",
   "metadata": {},
   "outputs": [],
   "source": [
    "file_path = directory + file_details[1]['name']\n",
    "\n",
    "with open(file_path, 'rb') as file:\n",
    "    data_dict = pickle.load(file)\n",
    "    \n",
    "GS_list = data_dict['GS_list'] \n",
    "L_list = data_dict['L_list'] \n",
    "n_rungs_list = data_dict['n_rungs_list'] \n",
    "U = data_dict['U'] \n",
    "U_start = data_dict['U_start']\n",
    "t = data_dict['t'] \n",
    "mu = data_dict['mu'] \n",
    "chi_max = data_dict['chi_max'] \n",
    "sweeps = data_dict['sweeps']\n",
    "duration = data_dict['duration']"
   ]
  },
  {
   "cell_type": "code",
   "execution_count": 28,
   "id": "4d43e068",
   "metadata": {},
   "outputs": [
    {
     "name": "stderr",
     "output_type": "stream",
     "text": [
      "/tmp/ipykernel_92914/122807654.py:10: IntegrationWarning: The maximum number of subdivisions (50) has been achieved.\n",
      "  If increasing the limit yields no improvement it is advised to analyze \n",
      "  the integrand in order to determine the difficulties.  If the position of a \n",
      "  local difficulty can be determined (singularity, discontinuity) one will \n",
      "  probably gain from splitting up the interval and calling the integrator \n",
      "  on the subranges.  Perhaps a special-purpose integrator should be used.\n",
      "  result, _ = quad(lambda x: integrand(x, U), 0, np.inf)\n"
     ]
    },
    {
     "data": {
      "image/png": "[encoded data removed]",
      "text/plain": [
       "<Figure size 640x480 with 1 Axes>"
      ]
     },
     "metadata": {},
     "output_type": "display_data"
    }
   ],
   "source": [
    "for i, L in enumerate(n_rungs_list):\n",
    "    plt.scatter(L_list, np.abs(GS_list[i,:]-bethe_ground_state(U/4)))\n",
    "    \n",
    "plt.yscale('log')"
   ]
  },
  {
   "cell_type": "code",
   "execution_count": 23,
   "id": "e4cd3916",
   "metadata": {},
   "outputs": [
    {
     "data": {
      "text/plain": [
       "array([-1.29441313, -1.29441332])"
      ]
     },
     "execution_count": 23,
     "metadata": {},
     "output_type": "execute_result"
    }
   ],
   "source": [
    "GS_list[:,0]"
   ]
  },
  {
   "cell_type": "code",
   "execution_count": 18,
   "id": "2014eec6",
   "metadata": {},
   "outputs": [
    {
     "data": {
      "text/plain": [
       "range(5, 15, 5)"
      ]
     },
     "execution_count": 18,
     "metadata": {},
     "output_type": "execute_result"
    }
   ],
   "source": [
    "n_rungs_list"
   ]
  },
  {
   "cell_type": "code",
   "execution_count": null,
   "id": "da90cf66",
   "metadata": {},
   "outputs": [],
   "source": []
  }
 ],
 "metadata": {
  "kernelspec": {
   "display_name": "Python 3 (ipykernel)",
   "language": "python",
   "name": "python3"
  },
  "language_info": {
   "codemirror_mode": {
    "name": "ipython",
    "version": 3
   },
   "file_extension": ".py",
   "mimetype": "text/x-python",
   "name": "python",
   "nbconvert_exporter": "python",
   "pygments_lexer": "ipython3",
   "version": "3.12.3"
  }
 },
 "nbformat": 4,
 "nbformat_minor": 5
}
