{
 "cells": [
  {
   "cell_type": "code",
   "execution_count": 6,
   "id": "43031ffb-04bb-459d-aa00-279967d3940b",
   "metadata": {},
   "outputs": [],
   "source": [
    "import numpy as np\n",
    "from numba import njit\n",
    "import pickle\n",
    "import time, sys\n",
    "\n",
    "from sympy import Matrix\n",
    "\n",
    "from scipy.optimize import curve_fit\n",
    "from scipy.interpolate import splrep, splev\n",
    "\n",
    "import matplotlib.pyplot as plt"
   ]
  },
  {
   "cell_type": "code",
   "execution_count": 27,
   "id": "2785899c-8f8d-4b0e-a14f-effcbcc574a8",
   "metadata": {},
   "outputs": [],
   "source": [
    "n_orb = 3\n",
    "\n",
    "def FockState(index):\n",
    "    return np.array(list(np.binary_repr(index - 1, width=2*n_orb)), dtype=int)\n",
    "\n",
    "def FockIndex(bin_):\n",
    "    return int(\"\".join(str(x) for x in bin_), 2) + 1\n",
    "\n",
    "def FermiCop(flavor):\n",
    "    def condition(index):\n",
    "        return FockState(index)[flavor-1] == 0\n",
    "\n",
    "    indices = [index for index in range(1, 4**n_orb + 1) if condition(index)]\n",
    "    sum_matrix = np.zeros((4**n_orb, 4**n_orb))\n",
    "    for index in indices:\n",
    "        state = FockState(index)\n",
    "        phase = (-1)**np.sum(state[:flavor])\n",
    "        updated_state = np.copy(state)\n",
    "        updated_state[flavor-1] = 1\n",
    "        sum_matrix += phase * np.outer(np.eye(4**n_orb)[index-1], np.eye(4**n_orb)[FockIndex(updated_state)-1])\n",
    "    return sum_matrix\n",
    "\n",
    "cun = np.array([FermiCop(i) for i in range(1, n_orb+1)]).astype(np.csingle)\n",
    "cdn = np.array([FermiCop(i) for i in range(n_orb+1, 2*n_orb+1)]).astype(np.csingle)\n",
    "cn = np.array([FermiCop(i) for i in range(1, 2*n_orb+1)]).astype(np.csingle)\n"
   ]
  },
  {
   "cell_type": "code",
   "execution_count": 20,
   "id": "8d8c9884-32a5-457a-bac6-4402e4e01b91",
   "metadata": {},
   "outputs": [],
   "source": [
    "@njit\n",
    "def nonintmat(kx, n_orb):\n",
    "    A = np.exp(1j * kx / n_orb)\n",
    "    mat = np.zeros((n_orb, n_orb), dtype=np.csingle)\n",
    "\n",
    "    for i in range(n_orb):\n",
    "        for j in range(n_orb):\n",
    "            if i - j == 1:\n",
    "                mat[i, j] += 1 / A\n",
    "            if j - i == 1:\n",
    "                mat[i, j] += A\n",
    "\n",
    "    mat[0, n_orb - 1] += 1 / A\n",
    "    mat[n_orb - 1, 0] += A\n",
    "\n",
    "    return mat\n",
    "\n",
    "@njit\n",
    "def hamiltonian(nonint, mu, U):\n",
    "    nonint_term = np.zeros((4**n_orb, 4**n_orb), dtype=np.csingle)\n",
    "    U_term = np.zeros((4**n_orb, 4**n_orb), dtype=np.csingle)\n",
    "    mu_term = np.zeros((4**n_orb, 4**n_orb), dtype=np.csingle)\n",
    "\n",
    "    for i in range(n_orb):\n",
    "        for j in range(n_orb):\n",
    "            nonint_term += np.dot(cun[i].T, cun[j]) * nonint[i, j]\n",
    "            nonint_term += np.dot(cdn[i].T, cdn[j]) * nonint[i, j]\n",
    "        U_term += np.dot(np.dot(cun[i].T , cun[i]) ,np.dot( cdn[i].T ,cdn[i])) * U\n",
    "    for i in range(2*n_orb):\n",
    "        mu_term += -mu * (cn[i].T @ cn[i])\n",
    "\n",
    "\n",
    "    # Total Hamiltonian\n",
    "    H = nonint_term + mu_term + U_term\n",
    "    return H+np.eye(4**n_orb, dtype=np.csingle)*U\n",
    "\n",
    "\n",
    "@njit\n",
    "def fullhamil(kx, t, mu, U):\n",
    "    return hamiltonian(-t * nonintmat(kx, n_orb), mu, U)"
   ]
  },
  {
   "cell_type": "code",
   "execution_count": 21,
   "id": "62c1e2f2-3d59-43bc-a588-6e81a4fbb421",
   "metadata": {},
   "outputs": [],
   "source": [
    "H = fullhamil(0, 1, 5, 10)"
   ]
  },
  {
   "cell_type": "code",
   "execution_count": 29,
   "id": "9d2171ca-5cc7-4b59-a73d-93cc076fbd15",
   "metadata": {},
   "outputs": [],
   "source": [
    "@njit\n",
    "def compute_N(s, n_orb):\n",
    "    N = 0\n",
    "    for i in range(n_orb):\n",
    "        d = (s // (4**i)) % 4\n",
    "        if d == 1 or d == 2:\n",
    "            N += 1\n",
    "        elif d == 3:\n",
    "            N += 2\n",
    "    return N\n",
    "\n",
    "def generate_basis_indices(n_orb, desired_N):\n",
    "    basis_indices = []\n",
    "    for s in range(4**n_orb):\n",
    "        if compute_N(s, n_orb) == desired_N:\n",
    "            basis_indices.append(s)\n",
    "    return np.array(basis_indices, dtype=np.int64)\n",
    "\n",
    "# Assuming H is the full Hamiltonian obtained from fullhamil()\n",
    "basis_indices = generate_basis_indices(n_orb, 2)\n",
    "H_N = H[np.ix_(basis_indices, basis_indices)]"
   ]
  },
  {
   "cell_type": "code",
   "execution_count": null,
   "id": "a3987bbb-6468-4c45-acef-44248fb1b235",
   "metadata": {},
   "outputs": [],
   "source": []
  }
 ],
 "metadata": {
  "kernelspec": {
   "display_name": "Python 3 (ipykernel)",
   "language": "python",
   "name": "python3"
  },
  "language_info": {
   "codemirror_mode": {
    "name": "ipython",
    "version": 3
   },
   "file_extension": ".py",
   "mimetype": "text/x-python",
   "name": "python",
   "nbconvert_exporter": "python",
   "pygments_lexer": "ipython3",
   "version": "3.12.3"
  }
 },
 "nbformat": 4,
 "nbformat_minor": 5
}
