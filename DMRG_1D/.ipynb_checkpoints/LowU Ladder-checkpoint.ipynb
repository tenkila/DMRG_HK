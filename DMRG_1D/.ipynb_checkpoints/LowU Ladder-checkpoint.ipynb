{
 "cells": [
  {
   "cell_type": "code",
   "execution_count": 1,
   "id": "8f9d2d93",
   "metadata": {},
   "outputs": [],
   "source": [
    "import numpy as np\n",
    "from tenpy.networks.mps import MPS\n",
    "from tenpy.models.hubbard import FermiHubbardModel\n",
    "from tenpy.algorithms import dmrg\n",
    "\n",
    "import pickle\n",
    "import matplotlib.pyplot as plt"
   ]
  },
  {
   "cell_type": "code",
   "execution_count": 2,
   "id": "e3eb5f31",
   "metadata": {},
   "outputs": [],
   "source": [
    "def run_dmrg_half_filling(L, U, t, mu, chi_max, sweeps, hc_flag=False):\n",
    "    model_params = {\n",
    "        'L': L,\n",
    "        'U': U,\n",
    "        't':t,\n",
    "        'mu': mu,\n",
    "        'bc_MPS': 'finite',\n",
    "        'bc_x':'periodic',\n",
    "        'explicit_plus_hc':hc_flag\n",
    "    }\n",
    "\n",
    "    model = FermiHubbardModel(model_params)\n",
    "\n",
    "    # Initialize the MPS for half-filling with an alternating pattern of up and down spins\n",
    "    initial_state = ['up', 'down'] * (L // 2) if L % 2 == 0 else ['up', 'down'] * (L // 2) + ['up']\n",
    "    psi = MPS.from_product_state(model.lat.mps_sites(), initial_state, bc='finite')\n",
    "\n",
    "    dmrg_params = {\n",
    "        'mixer': True,  # Enables mixing for better convergence in difficult phases\n",
    "        'trunc_params': {\n",
    "            'chi_max': chi_max,\n",
    "            'svd_min': 1.e-10\n",
    "        },\n",
    "        'max_sweeps': sweeps,\n",
    "    }\n",
    "\n",
    "    eng = dmrg.TwoSiteDMRGEngine(psi, model, dmrg_params)\n",
    "    E0, psi = eng.run()\n",
    "\n",
    "    return E0\n"
   ]
  },
  {
   "cell_type": "code",
   "execution_count": 28,
   "id": "ab2af8ba",
   "metadata": {},
   "outputs": [
    {
     "name": "stderr",
     "output_type": "stream",
     "text": [
      "/tmp/ipykernel_41228/122807654.py:6: RuntimeWarning: overflow encountered in exp\n",
      "  return j0(omega) * j1(omega) / (omega * (1 + np.exp(2 * U * omega)))\n"
     ]
    },
    {
     "data": {
      "text/plain": [
       "-1.040368653467547"
      ]
     },
     "execution_count": 28,
     "metadata": {},
     "output_type": "execute_result"
    }
   ],
   "source": [
    "from scipy.integrate import quad\n",
    "from scipy.special import j0, j1\n",
    "import numpy as np\n",
    "\n",
    "def integrand(omega, U):\n",
    "    return j0(omega) * j1(omega) / (omega * (1 + np.exp(2 * U * omega)))\n",
    "\n",
    "# Define the integral as a function of U\n",
    "def bethe_ground_state(U):\n",
    "    result, _ = quad(lambda x: integrand(x, U), 0, np.inf)\n",
    "    return result*4*(-1)\n",
    "\n",
    "# Test the function for a specific value of U\n",
    "bethe_ground_state(U/4)"
   ]
  },
  {
   "cell_type": "code",
   "execution_count": 29,
   "id": "3bfa3ced",
   "metadata": {},
   "outputs": [
    {
     "name": "stdout",
     "output_type": "stream",
     "text": [
      "-1.040368653394435\n"
     ]
    }
   ],
   "source": [
    "from scipy.integrate import quad\n",
    "from scipy.special import j0, j1\n",
    "import numpy as np\n",
    "\n",
    "def integrand(omega, U):\n",
    "    return j0(omega) * j1(omega) / (omega * (1 + np.exp(2 * U * omega)))\n",
    "\n",
    "# Define the integral as a function of U\n",
    "def bethe_ground_state(U):\n",
    "    upper_bound = 100  # Set a large finite upper bound\n",
    "    result, _ = quad(lambda x: integrand(x, U), 0, upper_bound)\n",
    "    return result * 4 * (-1)\n",
    "\n",
    "# Test the function for a specific value of U\n",
    "U = 1  # Example value for U\n",
    "print(bethe_ground_state(U/4))\n"
   ]
  },
  {
   "cell_type": "code",
   "execution_count": 9,
   "id": "bf976f44",
   "metadata": {},
   "outputs": [],
   "source": [
    "def low_U_ladder(L, U, U_start, n_rungs, t, mu, chi_max, sweeps, hc_flag=False):\n",
    "    \n",
    "    model_params = {\n",
    "            'L': L,\n",
    "            'U': U_start,\n",
    "            't':t,\n",
    "            'mu': mu,\n",
    "            'bc_MPS': 'finite',\n",
    "            'bc_x':'periodic',\n",
    "            'explicit_plus_hc':hc_flag\n",
    "        }\n",
    "\n",
    "    model = FermiHubbardModel(model_params)\n",
    "    \n",
    "    initial_state = ['up', 'down'] * (L // 2) if L % 2 == 0 else ['up', 'down'] * (L // 2) + ['up']\n",
    "    psi = MPS.from_product_state(model.lat.mps_sites(), initial_state, bc='finite')\n",
    "    \n",
    "    for U_new in np.linspace(U_start, U, n_rungs):\n",
    "        model_params = {\n",
    "            'L': L,\n",
    "            'U': U_new,\n",
    "            't':t,\n",
    "            'mu': mu,\n",
    "            'bc_MPS': 'finite',\n",
    "            'bc_x':'periodic',\n",
    "            'explicit_plus_hc':hc_flag\n",
    "        }\n",
    "\n",
    "        model = FermiHubbardModel(model_params)\n",
    "\n",
    "\n",
    "        dmrg_params = {\n",
    "            'mixer': True,  # Enables mixing for better convergence in difficult phases\n",
    "            'trunc_params': {\n",
    "                'chi_max': chi_max,\n",
    "                'svd_min': 1.e-10\n",
    "            },\n",
    "            'max_sweeps': sweeps,\n",
    "        }\n",
    "\n",
    "        eng = dmrg.TwoSiteDMRGEngine(psi, model, dmrg_params)\n",
    "        E0, psi = eng.run()\n",
    "\n",
    "    return E0\n"
   ]
  },
  {
   "cell_type": "code",
   "execution_count": 10,
   "id": "6d95e314",
   "metadata": {},
   "outputs": [
    {
     "name": "stdout",
     "output_type": "stream",
     "text": [
      "Ground State Energy at Half Filling: -0.8210238329063113\n"
     ]
    }
   ],
   "source": [
    "# Parameters\n",
    "L = 8  # Number of lattice sites (ensure it is even for a simple setup)\n",
    "U = 2.0  # On-site interaction strength\n",
    "U_start = 3.0\n",
    "n_rungs = 2\n",
    "t = 1\n",
    "mu = 0  # Chemical potential (often set to 0 for simplicity at half filling)\n",
    "chi_max = 200  # Maximum bond dimension\n",
    "sweeps = 100  # Number of DMRG sweeps\n",
    "\n",
    "\n",
    "\n",
    "ground_state_energy = low_U_ladder(L, U, U_start, n_rungs, t, mu, chi_max, sweeps)\n",
    "print(\"Ground State Energy at Half Filling:\", ground_state_energy/L)"
   ]
  },
  {
   "cell_type": "code",
   "execution_count": 25,
   "id": "d050ebf2",
   "metadata": {},
   "outputs": [
    {
     "name": "stderr",
     "output_type": "stream",
     "text": [
      "final DMRG state not in canonical form up to norm_tol=1.00e-05: norm_err=1.39e-05\n"
     ]
    },
    {
     "name": "stdout",
     "output_type": "stream",
     "text": [
      "10 2\n",
      "10 3\n"
     ]
    },
    {
     "name": "stderr",
     "output_type": "stream",
     "text": [
      "final DMRG state not in canonical form up to norm_tol=1.00e-05: norm_err=1.39e-05\n"
     ]
    },
    {
     "name": "stdout",
     "output_type": "stream",
     "text": [
      "10 4\n"
     ]
    },
    {
     "name": "stderr",
     "output_type": "stream",
     "text": [
      "final DMRG state not in canonical form up to norm_tol=1.00e-05: norm_err=1.39e-05\n"
     ]
    },
    {
     "name": "stdout",
     "output_type": "stream",
     "text": [
      "10 5\n"
     ]
    },
    {
     "name": "stderr",
     "output_type": "stream",
     "text": [
      "final DMRG state not in canonical form up to norm_tol=1.00e-05: norm_err=1.44e-05\n"
     ]
    },
    {
     "name": "stdout",
     "output_type": "stream",
     "text": [
      "10 6\n"
     ]
    },
    {
     "name": "stderr",
     "output_type": "stream",
     "text": [
      "final DMRG state not in canonical form up to norm_tol=1.00e-05: norm_err=1.42e-05\n"
     ]
    },
    {
     "name": "stdout",
     "output_type": "stream",
     "text": [
      "10 7\n"
     ]
    },
    {
     "name": "stderr",
     "output_type": "stream",
     "text": [
      "final DMRG state not in canonical form up to norm_tol=1.00e-05: norm_err=1.37e-05\n"
     ]
    },
    {
     "name": "stdout",
     "output_type": "stream",
     "text": [
      "10 8\n"
     ]
    },
    {
     "name": "stderr",
     "output_type": "stream",
     "text": [
      "final DMRG state not in canonical form up to norm_tol=1.00e-05: norm_err=1.39e-05\n"
     ]
    },
    {
     "name": "stdout",
     "output_type": "stream",
     "text": [
      "10 9\n"
     ]
    },
    {
     "name": "stderr",
     "output_type": "stream",
     "text": [
      "final DMRG state not in canonical form up to norm_tol=1.00e-05: norm_err=2.79e-04\n"
     ]
    },
    {
     "ename": "TenpyInconsistencyError",
     "evalue": "Maximum truncation error (``max_trunc_err``) exceeded.",
     "output_type": "error",
     "traceback": [
      "\u001b[0;31m---------------------------------------------------------------------------\u001b[0m",
      "\u001b[0;31mTenpyInconsistencyError\u001b[0m                   Traceback (most recent call last)",
      "Cell \u001b[0;32mIn[25], line 17\u001b[0m\n\u001b[1;32m     15\u001b[0m \u001b[38;5;28;01mfor\u001b[39;00m j, L \u001b[38;5;129;01min\u001b[39;00m \u001b[38;5;28menumerate\u001b[39m(L_list):\n\u001b[1;32m     16\u001b[0m     \u001b[38;5;28;01mfor\u001b[39;00m i, n_rungs \u001b[38;5;129;01min\u001b[39;00m \u001b[38;5;28menumerate\u001b[39m(n_rungs_list):\n\u001b[0;32m---> 17\u001b[0m         GS_list[i, j] \u001b[38;5;241m=\u001b[39m \u001b[43mlow_U_ladder\u001b[49m\u001b[43m(\u001b[49m\u001b[43mL\u001b[49m\u001b[43m,\u001b[49m\u001b[43m \u001b[49m\u001b[43mU\u001b[49m\u001b[43m,\u001b[49m\u001b[43m \u001b[49m\u001b[43mU_start\u001b[49m\u001b[43m,\u001b[49m\u001b[43m \u001b[49m\u001b[43mn_rungs\u001b[49m\u001b[43m,\u001b[49m\u001b[43m \u001b[49m\u001b[43mt\u001b[49m\u001b[43m,\u001b[49m\u001b[43m \u001b[49m\u001b[43mmu\u001b[49m\u001b[43m,\u001b[49m\u001b[43m \u001b[49m\u001b[43mchi_max\u001b[49m\u001b[43m,\u001b[49m\u001b[43m \u001b[49m\u001b[43msweeps\u001b[49m\u001b[43m)\u001b[49m\u001b[38;5;241m/\u001b[39mL\n\u001b[1;32m     18\u001b[0m         \u001b[38;5;28mprint\u001b[39m(L, n_rungs)\n",
      "Cell \u001b[0;32mIn[9], line 42\u001b[0m, in \u001b[0;36mlow_U_ladder\u001b[0;34m(L, U, U_start, n_rungs, t, mu, chi_max, sweeps, hc_flag)\u001b[0m\n\u001b[1;32m     32\u001b[0m     dmrg_params \u001b[38;5;241m=\u001b[39m {\n\u001b[1;32m     33\u001b[0m         \u001b[38;5;124m'\u001b[39m\u001b[38;5;124mmixer\u001b[39m\u001b[38;5;124m'\u001b[39m: \u001b[38;5;28;01mTrue\u001b[39;00m,  \u001b[38;5;66;03m# Enables mixing for better convergence in difficult phases\u001b[39;00m\n\u001b[1;32m     34\u001b[0m         \u001b[38;5;124m'\u001b[39m\u001b[38;5;124mtrunc_params\u001b[39m\u001b[38;5;124m'\u001b[39m: {\n\u001b[0;32m   (...)\u001b[0m\n\u001b[1;32m     38\u001b[0m         \u001b[38;5;124m'\u001b[39m\u001b[38;5;124mmax_sweeps\u001b[39m\u001b[38;5;124m'\u001b[39m: sweeps,\n\u001b[1;32m     39\u001b[0m     }\n\u001b[1;32m     41\u001b[0m     eng \u001b[38;5;241m=\u001b[39m dmrg\u001b[38;5;241m.\u001b[39mTwoSiteDMRGEngine(psi, model, dmrg_params)\n\u001b[0;32m---> 42\u001b[0m     E0, psi \u001b[38;5;241m=\u001b[39m \u001b[43meng\u001b[49m\u001b[38;5;241;43m.\u001b[39;49m\u001b[43mrun\u001b[49m\u001b[43m(\u001b[49m\u001b[43m)\u001b[49m\n\u001b[1;32m     44\u001b[0m \u001b[38;5;28;01mreturn\u001b[39;00m E0\n",
      "File \u001b[0;32m~/Projects/default/lib/python3.12/site-packages/tenpy/algorithms/dmrg.py:459\u001b[0m, in \u001b[0;36mDMRGEngine.run\u001b[0;34m(self)\u001b[0m\n\u001b[1;32m    448\u001b[0m \u001b[38;5;28;01mdef\u001b[39;00m \u001b[38;5;21mrun\u001b[39m(\u001b[38;5;28mself\u001b[39m):\n\u001b[1;32m    449\u001b[0m \u001b[38;5;250m    \u001b[39m\u001b[38;5;124;03m\"\"\"Run the DMRG simulation to find the ground state.\u001b[39;00m\n\u001b[1;32m    450\u001b[0m \n\u001b[1;32m    451\u001b[0m \u001b[38;5;124;03m    Returns\u001b[39;00m\n\u001b[0;32m   (...)\u001b[0m\n\u001b[1;32m    457\u001b[0m \u001b[38;5;124;03m        i.e. just a reference to :attr:`psi`.\u001b[39;00m\n\u001b[1;32m    458\u001b[0m \u001b[38;5;124;03m    \"\"\"\u001b[39;00m\n\u001b[0;32m--> 459\u001b[0m     \u001b[38;5;28;01mreturn\u001b[39;00m \u001b[38;5;28;43msuper\u001b[39;49m\u001b[43m(\u001b[49m\u001b[43m)\u001b[49m\u001b[38;5;241;43m.\u001b[39;49m\u001b[43mrun\u001b[49m\u001b[43m(\u001b[49m\u001b[43m)\u001b[49m\n",
      "File \u001b[0;32m~/Projects/default/lib/python3.12/site-packages/tenpy/algorithms/mps_common.py:783\u001b[0m, in \u001b[0;36mIterativeSweeps.run\u001b[0;34m(self)\u001b[0m\n\u001b[1;32m    781\u001b[0m     is_first_sweep \u001b[38;5;241m=\u001b[39m \u001b[38;5;28;01mFalse\u001b[39;00m\n\u001b[1;32m    782\u001b[0m \u001b[38;5;28mself\u001b[39m\u001b[38;5;241m.\u001b[39mpost_run_cleanup()\n\u001b[0;32m--> 783\u001b[0m \u001b[43mconsistency_check\u001b[49m\u001b[43m(\u001b[49m\u001b[43mnp\u001b[49m\u001b[38;5;241;43m.\u001b[39;49m\u001b[43mmax\u001b[49m\u001b[43m(\u001b[49m\u001b[38;5;28;43mself\u001b[39;49m\u001b[38;5;241;43m.\u001b[39;49m\u001b[43mtrunc_err_list\u001b[49m\u001b[43m)\u001b[49m\u001b[43m,\u001b[49m\u001b[43m \u001b[49m\u001b[38;5;28;43mself\u001b[39;49m\u001b[38;5;241;43m.\u001b[39;49m\u001b[43moptions\u001b[49m\u001b[43m,\u001b[49m\u001b[43m \u001b[49m\u001b[38;5;124;43m'\u001b[39;49m\u001b[38;5;124;43mmax_trunc_err\u001b[39;49m\u001b[38;5;124;43m'\u001b[39;49m\u001b[43m,\u001b[49m\u001b[43m \u001b[49m\u001b[38;5;241;43m1e-4\u001b[39;49m\u001b[43m,\u001b[49m\n\u001b[1;32m    784\u001b[0m \u001b[43m                  \u001b[49m\u001b[38;5;124;43m'\u001b[39;49m\u001b[38;5;124;43mMaximum truncation error (``max_trunc_err``) exceeded.\u001b[39;49m\u001b[38;5;124;43m'\u001b[39;49m\u001b[43m)\u001b[49m\n\u001b[1;32m    785\u001b[0m \u001b[38;5;28;01mreturn\u001b[39;00m result\n",
      "File \u001b[0;32m~/Projects/default/lib/python3.12/site-packages/tenpy/tools/misc.py:982\u001b[0m, in \u001b[0;36mconsistency_check\u001b[0;34m(value, options, threshold_key, threshold_default, msg, compare)\u001b[0m\n\u001b[1;32m    980\u001b[0m     warnings\u001b[38;5;241m.\u001b[39mwarn(msg, category\u001b[38;5;241m=\u001b[39mTenpyInconsistencyWarning, stacklevel\u001b[38;5;241m=\u001b[39m\u001b[38;5;241m2\u001b[39m)\n\u001b[1;32m    981\u001b[0m \u001b[38;5;28;01melse\u001b[39;00m:\n\u001b[0;32m--> 982\u001b[0m     \u001b[38;5;28;01mraise\u001b[39;00m TenpyInconsistencyError(msg)\n",
      "\u001b[0;31mTenpyInconsistencyError\u001b[0m: Maximum truncation error (``max_trunc_err``) exceeded."
     ]
    }
   ],
   "source": [
    "# Parameters\n",
    "L = 8  # Number of lattice sites (ensure it is even for a simple setup)\n",
    "U = 0.0  # On-site interaction strength\n",
    "U_start = 3.0\n",
    "t = 1\n",
    "mu = 0  # Chemical potential (often set to 0 for simplicity at half filling)\n",
    "chi_max = 200  # Maximum bond dimension\n",
    "sweeps = 100  # Number of DMRG sweeps\n",
    "\n",
    "\n",
    "n_rungs_list = range(2, 10)\n",
    "L_list = range(10, 100, 20)\n",
    "GS_list = np.zeros(shape=(len(n_rungs_list), len(L_list)))\n",
    "\n",
    "for j, L in enumerate(L_list):\n",
    "    for i, n_rungs in enumerate(n_rungs_list):\n",
    "        GS_list[i, j] = low_U_ladder(L, U, U_start, n_rungs, t, mu, chi_max, sweeps)/L\n",
    "        print(L, n_rungs)"
   ]
  },
  {
   "cell_type": "code",
   "execution_count": 26,
   "id": "3eef2634",
   "metadata": {},
   "outputs": [
    {
     "name": "stderr",
     "output_type": "stream",
     "text": [
      "/tmp/ipykernel_41228/122807654.py:10: IntegrationWarning: The maximum number of subdivisions (50) has been achieved.\n",
      "  If increasing the limit yields no improvement it is advised to analyze \n",
      "  the integrand in order to determine the difficulties.  If the position of a \n",
      "  local difficulty can be determined (singularity, discontinuity) one will \n",
      "  probably gain from splitting up the interval and calling the integrator \n",
      "  on the subranges.  Perhaps a special-purpose integrator should be used.\n",
      "  result, _ = quad(lambda x: integrand(x, U), 0, np.inf)\n"
     ]
    },
    {
     "ename": "ValueError",
     "evalue": "x and y must be the same size",
     "output_type": "error",
     "traceback": [
      "\u001b[0;31m---------------------------------------------------------------------------\u001b[0m",
      "\u001b[0;31mValueError\u001b[0m                                Traceback (most recent call last)",
      "Cell \u001b[0;32mIn[26], line 1\u001b[0m\n\u001b[0;32m----> 1\u001b[0m \u001b[43mplt\u001b[49m\u001b[38;5;241;43m.\u001b[39;49m\u001b[43mscatter\u001b[49m\u001b[43m(\u001b[49m\u001b[43mn_rungs_list\u001b[49m\u001b[43m,\u001b[49m\u001b[43m \u001b[49m\u001b[43mGS_list\u001b[49m\u001b[38;5;241;43m-\u001b[39;49m\u001b[43mbethe_ground_state\u001b[49m\u001b[43m(\u001b[49m\u001b[43mU\u001b[49m\u001b[38;5;241;43m/\u001b[39;49m\u001b[38;5;241;43m4\u001b[39;49m\u001b[43m)\u001b[49m\u001b[43m)\u001b[49m\n",
      "File \u001b[0;32m~/Projects/default/lib/python3.12/site-packages/matplotlib/pyplot.py:3817\u001b[0m, in \u001b[0;36mscatter\u001b[0;34m(x, y, s, c, marker, cmap, norm, vmin, vmax, alpha, linewidths, edgecolors, plotnonfinite, data, **kwargs)\u001b[0m\n\u001b[1;32m   3798\u001b[0m \u001b[38;5;129m@_copy_docstring_and_deprecators\u001b[39m(Axes\u001b[38;5;241m.\u001b[39mscatter)\n\u001b[1;32m   3799\u001b[0m \u001b[38;5;28;01mdef\u001b[39;00m \u001b[38;5;21mscatter\u001b[39m(\n\u001b[1;32m   3800\u001b[0m     x: \u001b[38;5;28mfloat\u001b[39m \u001b[38;5;241m|\u001b[39m ArrayLike,\n\u001b[0;32m   (...)\u001b[0m\n\u001b[1;32m   3815\u001b[0m     \u001b[38;5;241m*\u001b[39m\u001b[38;5;241m*\u001b[39mkwargs,\n\u001b[1;32m   3816\u001b[0m ) \u001b[38;5;241m-\u001b[39m\u001b[38;5;241m>\u001b[39m PathCollection:\n\u001b[0;32m-> 3817\u001b[0m     __ret \u001b[38;5;241m=\u001b[39m \u001b[43mgca\u001b[49m\u001b[43m(\u001b[49m\u001b[43m)\u001b[49m\u001b[38;5;241;43m.\u001b[39;49m\u001b[43mscatter\u001b[49m\u001b[43m(\u001b[49m\n\u001b[1;32m   3818\u001b[0m \u001b[43m        \u001b[49m\u001b[43mx\u001b[49m\u001b[43m,\u001b[49m\n\u001b[1;32m   3819\u001b[0m \u001b[43m        \u001b[49m\u001b[43my\u001b[49m\u001b[43m,\u001b[49m\n\u001b[1;32m   3820\u001b[0m \u001b[43m        \u001b[49m\u001b[43ms\u001b[49m\u001b[38;5;241;43m=\u001b[39;49m\u001b[43ms\u001b[49m\u001b[43m,\u001b[49m\n\u001b[1;32m   3821\u001b[0m \u001b[43m        \u001b[49m\u001b[43mc\u001b[49m\u001b[38;5;241;43m=\u001b[39;49m\u001b[43mc\u001b[49m\u001b[43m,\u001b[49m\n\u001b[1;32m   3822\u001b[0m \u001b[43m        \u001b[49m\u001b[43mmarker\u001b[49m\u001b[38;5;241;43m=\u001b[39;49m\u001b[43mmarker\u001b[49m\u001b[43m,\u001b[49m\n\u001b[1;32m   3823\u001b[0m \u001b[43m        \u001b[49m\u001b[43mcmap\u001b[49m\u001b[38;5;241;43m=\u001b[39;49m\u001b[43mcmap\u001b[49m\u001b[43m,\u001b[49m\n\u001b[1;32m   3824\u001b[0m \u001b[43m        \u001b[49m\u001b[43mnorm\u001b[49m\u001b[38;5;241;43m=\u001b[39;49m\u001b[43mnorm\u001b[49m\u001b[43m,\u001b[49m\n\u001b[1;32m   3825\u001b[0m \u001b[43m        \u001b[49m\u001b[43mvmin\u001b[49m\u001b[38;5;241;43m=\u001b[39;49m\u001b[43mvmin\u001b[49m\u001b[43m,\u001b[49m\n\u001b[1;32m   3826\u001b[0m \u001b[43m        \u001b[49m\u001b[43mvmax\u001b[49m\u001b[38;5;241;43m=\u001b[39;49m\u001b[43mvmax\u001b[49m\u001b[43m,\u001b[49m\n\u001b[1;32m   3827\u001b[0m \u001b[43m        \u001b[49m\u001b[43malpha\u001b[49m\u001b[38;5;241;43m=\u001b[39;49m\u001b[43malpha\u001b[49m\u001b[43m,\u001b[49m\n\u001b[1;32m   3828\u001b[0m \u001b[43m        \u001b[49m\u001b[43mlinewidths\u001b[49m\u001b[38;5;241;43m=\u001b[39;49m\u001b[43mlinewidths\u001b[49m\u001b[43m,\u001b[49m\n\u001b[1;32m   3829\u001b[0m \u001b[43m        \u001b[49m\u001b[43medgecolors\u001b[49m\u001b[38;5;241;43m=\u001b[39;49m\u001b[43medgecolors\u001b[49m\u001b[43m,\u001b[49m\n\u001b[1;32m   3830\u001b[0m \u001b[43m        \u001b[49m\u001b[43mplotnonfinite\u001b[49m\u001b[38;5;241;43m=\u001b[39;49m\u001b[43mplotnonfinite\u001b[49m\u001b[43m,\u001b[49m\n\u001b[1;32m   3831\u001b[0m \u001b[43m        \u001b[49m\u001b[38;5;241;43m*\u001b[39;49m\u001b[38;5;241;43m*\u001b[39;49m\u001b[43m(\u001b[49m\u001b[43m{\u001b[49m\u001b[38;5;124;43m\"\u001b[39;49m\u001b[38;5;124;43mdata\u001b[39;49m\u001b[38;5;124;43m\"\u001b[39;49m\u001b[43m:\u001b[49m\u001b[43m \u001b[49m\u001b[43mdata\u001b[49m\u001b[43m}\u001b[49m\u001b[43m \u001b[49m\u001b[38;5;28;43;01mif\u001b[39;49;00m\u001b[43m \u001b[49m\u001b[43mdata\u001b[49m\u001b[43m \u001b[49m\u001b[38;5;129;43;01mis\u001b[39;49;00m\u001b[43m \u001b[49m\u001b[38;5;129;43;01mnot\u001b[39;49;00m\u001b[43m \u001b[49m\u001b[38;5;28;43;01mNone\u001b[39;49;00m\u001b[43m \u001b[49m\u001b[38;5;28;43;01melse\u001b[39;49;00m\u001b[43m \u001b[49m\u001b[43m{\u001b[49m\u001b[43m}\u001b[49m\u001b[43m)\u001b[49m\u001b[43m,\u001b[49m\n\u001b[1;32m   3832\u001b[0m \u001b[43m        \u001b[49m\u001b[38;5;241;43m*\u001b[39;49m\u001b[38;5;241;43m*\u001b[39;49m\u001b[43mkwargs\u001b[49m\u001b[43m,\u001b[49m\n\u001b[1;32m   3833\u001b[0m \u001b[43m    \u001b[49m\u001b[43m)\u001b[49m\n\u001b[1;32m   3834\u001b[0m     sci(__ret)\n\u001b[1;32m   3835\u001b[0m     \u001b[38;5;28;01mreturn\u001b[39;00m __ret\n",
      "File \u001b[0;32m~/Projects/default/lib/python3.12/site-packages/matplotlib/__init__.py:1473\u001b[0m, in \u001b[0;36m_preprocess_data.<locals>.inner\u001b[0;34m(ax, data, *args, **kwargs)\u001b[0m\n\u001b[1;32m   1470\u001b[0m \u001b[38;5;129m@functools\u001b[39m\u001b[38;5;241m.\u001b[39mwraps(func)\n\u001b[1;32m   1471\u001b[0m \u001b[38;5;28;01mdef\u001b[39;00m \u001b[38;5;21minner\u001b[39m(ax, \u001b[38;5;241m*\u001b[39margs, data\u001b[38;5;241m=\u001b[39m\u001b[38;5;28;01mNone\u001b[39;00m, \u001b[38;5;241m*\u001b[39m\u001b[38;5;241m*\u001b[39mkwargs):\n\u001b[1;32m   1472\u001b[0m     \u001b[38;5;28;01mif\u001b[39;00m data \u001b[38;5;129;01mis\u001b[39;00m \u001b[38;5;28;01mNone\u001b[39;00m:\n\u001b[0;32m-> 1473\u001b[0m         \u001b[38;5;28;01mreturn\u001b[39;00m \u001b[43mfunc\u001b[49m\u001b[43m(\u001b[49m\n\u001b[1;32m   1474\u001b[0m \u001b[43m            \u001b[49m\u001b[43max\u001b[49m\u001b[43m,\u001b[49m\n\u001b[1;32m   1475\u001b[0m \u001b[43m            \u001b[49m\u001b[38;5;241;43m*\u001b[39;49m\u001b[38;5;28;43mmap\u001b[39;49m\u001b[43m(\u001b[49m\u001b[43msanitize_sequence\u001b[49m\u001b[43m,\u001b[49m\u001b[43m \u001b[49m\u001b[43margs\u001b[49m\u001b[43m)\u001b[49m\u001b[43m,\u001b[49m\n\u001b[1;32m   1476\u001b[0m \u001b[43m            \u001b[49m\u001b[38;5;241;43m*\u001b[39;49m\u001b[38;5;241;43m*\u001b[39;49m\u001b[43m{\u001b[49m\u001b[43mk\u001b[49m\u001b[43m:\u001b[49m\u001b[43m \u001b[49m\u001b[43msanitize_sequence\u001b[49m\u001b[43m(\u001b[49m\u001b[43mv\u001b[49m\u001b[43m)\u001b[49m\u001b[43m \u001b[49m\u001b[38;5;28;43;01mfor\u001b[39;49;00m\u001b[43m \u001b[49m\u001b[43mk\u001b[49m\u001b[43m,\u001b[49m\u001b[43m \u001b[49m\u001b[43mv\u001b[49m\u001b[43m \u001b[49m\u001b[38;5;129;43;01min\u001b[39;49;00m\u001b[43m \u001b[49m\u001b[43mkwargs\u001b[49m\u001b[38;5;241;43m.\u001b[39;49m\u001b[43mitems\u001b[49m\u001b[43m(\u001b[49m\u001b[43m)\u001b[49m\u001b[43m}\u001b[49m\u001b[43m)\u001b[49m\n\u001b[1;32m   1478\u001b[0m     bound \u001b[38;5;241m=\u001b[39m new_sig\u001b[38;5;241m.\u001b[39mbind(ax, \u001b[38;5;241m*\u001b[39margs, \u001b[38;5;241m*\u001b[39m\u001b[38;5;241m*\u001b[39mkwargs)\n\u001b[1;32m   1479\u001b[0m     auto_label \u001b[38;5;241m=\u001b[39m (bound\u001b[38;5;241m.\u001b[39marguments\u001b[38;5;241m.\u001b[39mget(label_namer)\n\u001b[1;32m   1480\u001b[0m                   \u001b[38;5;129;01mor\u001b[39;00m bound\u001b[38;5;241m.\u001b[39mkwargs\u001b[38;5;241m.\u001b[39mget(label_namer))\n",
      "File \u001b[0;32m~/Projects/default/lib/python3.12/site-packages/matplotlib/axes/_axes.py:4787\u001b[0m, in \u001b[0;36mAxes.scatter\u001b[0;34m(self, x, y, s, c, marker, cmap, norm, vmin, vmax, alpha, linewidths, edgecolors, plotnonfinite, **kwargs)\u001b[0m\n\u001b[1;32m   4785\u001b[0m y \u001b[38;5;241m=\u001b[39m np\u001b[38;5;241m.\u001b[39mma\u001b[38;5;241m.\u001b[39mravel(y)\n\u001b[1;32m   4786\u001b[0m \u001b[38;5;28;01mif\u001b[39;00m x\u001b[38;5;241m.\u001b[39msize \u001b[38;5;241m!=\u001b[39m y\u001b[38;5;241m.\u001b[39msize:\n\u001b[0;32m-> 4787\u001b[0m     \u001b[38;5;28;01mraise\u001b[39;00m \u001b[38;5;167;01mValueError\u001b[39;00m(\u001b[38;5;124m\"\u001b[39m\u001b[38;5;124mx and y must be the same size\u001b[39m\u001b[38;5;124m\"\u001b[39m)\n\u001b[1;32m   4789\u001b[0m \u001b[38;5;28;01mif\u001b[39;00m s \u001b[38;5;129;01mis\u001b[39;00m \u001b[38;5;28;01mNone\u001b[39;00m:\n\u001b[1;32m   4790\u001b[0m     s \u001b[38;5;241m=\u001b[39m (\u001b[38;5;241m20\u001b[39m \u001b[38;5;28;01mif\u001b[39;00m mpl\u001b[38;5;241m.\u001b[39mrcParams[\u001b[38;5;124m'\u001b[39m\u001b[38;5;124m_internal.classic_mode\u001b[39m\u001b[38;5;124m'\u001b[39m] \u001b[38;5;28;01melse\u001b[39;00m\n\u001b[1;32m   4791\u001b[0m          mpl\u001b[38;5;241m.\u001b[39mrcParams[\u001b[38;5;124m'\u001b[39m\u001b[38;5;124mlines.markersize\u001b[39m\u001b[38;5;124m'\u001b[39m] \u001b[38;5;241m*\u001b[39m\u001b[38;5;241m*\u001b[39m \u001b[38;5;241m2.0\u001b[39m)\n",
      "\u001b[0;31mValueError\u001b[0m: x and y must be the same size"
     ]
    },
    {
     "data": {
      "image/png": "[encoded data removed]",
      "text/plain": [
       "<Figure size 640x480 with 1 Axes>"
      ]
     },
     "metadata": {},
     "output_type": "display_data"
    }
   ],
   "source": [
    "plt.scatter(n_rungs_list, GS_list-bethe_ground_state(U/4))"
   ]
  },
  {
   "cell_type": "code",
   "execution_count": null,
   "id": "d5880805",
   "metadata": {},
   "outputs": [],
   "source": []
  }
 ],
 "metadata": {
  "kernelspec": {
   "display_name": "default",
   "language": "python",
   "name": "default"
  },
  "language_info": {
   "codemirror_mode": {
    "name": "ipython",
    "version": 3
   },
   "file_extension": ".py",
   "mimetype": "text/x-python",
   "name": "python",
   "nbconvert_exporter": "python",
   "pygments_lexer": "ipython3",
   "version": "3.12.3"
  }
 },
 "nbformat": 4,
 "nbformat_minor": 5
}
