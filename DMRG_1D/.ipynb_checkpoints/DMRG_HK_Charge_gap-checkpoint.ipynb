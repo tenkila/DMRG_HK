{
 "cells": [
  {
   "cell_type": "code",
   "execution_count": 1,
   "id": "f1cef72d",
   "metadata": {},
   "outputs": [],
   "source": [
    "import numpy as np\n",
    "from tenpy.networks.mps import MPS\n",
    "from tenpy.models.hubbard import FermiHubbardModel\n",
    "from tenpy.algorithms import dmrg\n",
    "\n",
    "import pickle, time\n",
    "import matplotlib.pyplot as plt"
   ]
  },
  {
   "cell_type": "code",
   "execution_count": 2,
   "id": "1295054a",
   "metadata": {},
   "outputs": [],
   "source": [
    "def run_dmrg_half_filling(L, U, t, mu, chi_max, sweeps, hc_flag=False, charge=0):\n",
    "    model_params = {\n",
    "        'L': L,\n",
    "        'U': U,\n",
    "        't':t,\n",
    "        'mu': mu,\n",
    "        'bc_MPS': 'finite',\n",
    "        'bc_x':'periodic',\n",
    "        'explicit_plus_hc':hc_flag\n",
    "    }\n",
    "\n",
    "    model = FermiHubbardModel(model_params)\n",
    "\n",
    "    # Initialize the MPS for half-filling with an alternating pattern of up and down spins\n",
    "    if charge==0:\n",
    "        initial_state = ['down', 'up'] * (L // 2) if L % 2 == 0 else ['down', 'up'] * (L // 2) + ['down']\n",
    "    elif charge==1:\n",
    "        initial_state = ['down', 'up'] * (L // 2) if L % 2 == 0 else ['down', 'up'] * (L // 2) + ['full']\n",
    "        if L%2==0: initial_state[-1] = 'full'\n",
    "    elif charge==-1:\n",
    "        initial_state = ['down', 'up'] * (L // 2) if L % 2 == 0 else ['down', 'up'] * (L // 2) + ['empty']\n",
    "        if L%2==0: initial_state[-1] = 'empty'\n",
    "    psi = MPS.from_product_state(model.lat.mps_sites(), initial_state, bc='finite')\n",
    "\n",
    "    dmrg_params = {\n",
    "        'mixer': True,  # Enables mixing for better convergence in difficult phases\n",
    "        'trunc_params': {\n",
    "            'chi_max': chi_max,\n",
    "            'svd_min': 1.e-6\n",
    "        },\n",
    "        'max_sweeps': sweeps,\n",
    "    }\n",
    "\n",
    "    eng = dmrg.TwoSiteDMRGEngine(psi, model, dmrg_params)\n",
    "    E0, psi = eng.run()\n",
    "\n",
    "    return E0\n"
   ]
  },
  {
   "cell_type": "code",
   "execution_count": 3,
   "id": "cac7cc7a",
   "metadata": {},
   "outputs": [
    {
     "name": "stdout",
     "output_type": "stream",
     "text": [
      "Ground State Energy at Half Filling: -0.7130240638293835\n"
     ]
    }
   ],
   "source": [
    "# Parameters\n",
    "L = 8  # Number of lattice sites (ensure it is even for a simple setup)\n",
    "U = 4.0  # On-site interaction strength\n",
    "t = np.exp(1j*np.pi*0.1)  # Hopping term\n",
    "mu = 0  # Chemical potential (often set to 0 for simplicity at half filling)\n",
    "chi_max = 200  # Maximum bond dimension\n",
    "sweeps = 100  # Number of DMRG sweeps\n",
    "\n",
    "\n",
    "\n",
    "ground_state_energy = run_dmrg_half_filling(L, U, t, mu, chi_max, sweeps, charge=-1)\n",
    "print(\"Ground State Energy at Half Filling:\", ground_state_energy/L)"
   ]
  },
  {
   "cell_type": "code",
   "execution_count": 4,
   "id": "abc710cc",
   "metadata": {},
   "outputs": [
    {
     "name": "stderr",
     "output_type": "stream",
     "text": [
      "final DMRG state not in canonical form up to norm_tol=1.00e-05: norm_err=3.45e-04\n"
     ]
    },
    {
     "ename": "KeyboardInterrupt",
     "evalue": "",
     "output_type": "error",
     "traceback": [
      "\u001b[0;31m---------------------------------------------------------------------------\u001b[0m",
      "\u001b[0;31mKeyboardInterrupt\u001b[0m                         Traceback (most recent call last)",
      "Cell \u001b[0;32mIn[4], line 22\u001b[0m\n\u001b[1;32m     20\u001b[0m \u001b[38;5;28;01mfor\u001b[39;00m kx \u001b[38;5;129;01min\u001b[39;00m \u001b[38;5;28mrange\u001b[39m(\u001b[38;5;241m-\u001b[39m\u001b[38;5;28mint\u001b[39m(k_num\u001b[38;5;241m/\u001b[39m\u001b[38;5;241m2\u001b[39m), \u001b[38;5;28mint\u001b[39m(k_num\u001b[38;5;241m/\u001b[39m\u001b[38;5;241m2\u001b[39m)):\n\u001b[1;32m     21\u001b[0m     t_star \u001b[38;5;241m=\u001b[39m np\u001b[38;5;241m.\u001b[39mexp(\u001b[38;5;241m1\u001b[39mj\u001b[38;5;241m*\u001b[39mkx\u001b[38;5;241m/\u001b[39mk_num\u001b[38;5;241m*\u001b[39mnp\u001b[38;5;241m.\u001b[39mpi)\n\u001b[0;32m---> 22\u001b[0m     raw_energy_dat[i,j,\u001b[38;5;241m0\u001b[39m,kx\u001b[38;5;241m+\u001b[39m\u001b[38;5;28mint\u001b[39m(k_num\u001b[38;5;241m/\u001b[39m\u001b[38;5;241m2\u001b[39m)] \u001b[38;5;241m=\u001b[39m \u001b[43mrun_dmrg_half_filling\u001b[49m\u001b[43m(\u001b[49m\u001b[43mnorb\u001b[49m\u001b[43m,\u001b[49m\u001b[43m \u001b[49m\u001b[43mU\u001b[49m\u001b[43m,\u001b[49m\u001b[43m \u001b[49m\u001b[43mt_star\u001b[49m\u001b[43m,\u001b[49m\u001b[43m \u001b[49m\u001b[43mmu\u001b[49m\u001b[43m,\u001b[49m\u001b[43m \u001b[49m\u001b[43mchi_max\u001b[49m\u001b[43m,\u001b[49m\u001b[43m \u001b[49m\u001b[43msweeps\u001b[49m\u001b[43m,\u001b[49m\u001b[43mcharge\u001b[49m\u001b[38;5;241;43m=\u001b[39;49m\u001b[38;5;241;43m0\u001b[39;49m\u001b[43m)\u001b[49m\n\u001b[1;32m     23\u001b[0m     raw_energy_dat[i,j,\u001b[38;5;241m1\u001b[39m,kx\u001b[38;5;241m+\u001b[39m\u001b[38;5;28mint\u001b[39m(k_num\u001b[38;5;241m/\u001b[39m\u001b[38;5;241m2\u001b[39m)] \u001b[38;5;241m=\u001b[39m run_dmrg_half_filling(norb, U, t_star, mu, chi_max, sweeps,charge\u001b[38;5;241m=\u001b[39m\u001b[38;5;241m1\u001b[39m)\n\u001b[1;32m     25\u001b[0m twist_avg_energy[i, j] \u001b[38;5;241m=\u001b[39m energy_arr\u001b[38;5;241m.\u001b[39mmean()\n",
      "Cell \u001b[0;32mIn[2], line 35\u001b[0m, in \u001b[0;36mrun_dmrg_half_filling\u001b[0;34m(L, U, t, mu, chi_max, sweeps, hc_flag, charge)\u001b[0m\n\u001b[1;32m     25\u001b[0m dmrg_params \u001b[38;5;241m=\u001b[39m {\n\u001b[1;32m     26\u001b[0m     \u001b[38;5;124m'\u001b[39m\u001b[38;5;124mmixer\u001b[39m\u001b[38;5;124m'\u001b[39m: \u001b[38;5;28;01mTrue\u001b[39;00m,  \u001b[38;5;66;03m# Enables mixing for better convergence in difficult phases\u001b[39;00m\n\u001b[1;32m     27\u001b[0m     \u001b[38;5;124m'\u001b[39m\u001b[38;5;124mtrunc_params\u001b[39m\u001b[38;5;124m'\u001b[39m: {\n\u001b[0;32m   (...)\u001b[0m\n\u001b[1;32m     31\u001b[0m     \u001b[38;5;124m'\u001b[39m\u001b[38;5;124mmax_sweeps\u001b[39m\u001b[38;5;124m'\u001b[39m: sweeps,\n\u001b[1;32m     32\u001b[0m }\n\u001b[1;32m     34\u001b[0m eng \u001b[38;5;241m=\u001b[39m dmrg\u001b[38;5;241m.\u001b[39mTwoSiteDMRGEngine(psi, model, dmrg_params)\n\u001b[0;32m---> 35\u001b[0m E0, psi \u001b[38;5;241m=\u001b[39m \u001b[43meng\u001b[49m\u001b[38;5;241;43m.\u001b[39;49m\u001b[43mrun\u001b[49m\u001b[43m(\u001b[49m\u001b[43m)\u001b[49m\n\u001b[1;32m     37\u001b[0m \u001b[38;5;28;01mreturn\u001b[39;00m E0\n",
      "File \u001b[0;32m~/Projects/default/lib/python3.12/site-packages/tenpy/algorithms/dmrg.py:459\u001b[0m, in \u001b[0;36mDMRGEngine.run\u001b[0;34m(self)\u001b[0m\n\u001b[1;32m    448\u001b[0m \u001b[38;5;28;01mdef\u001b[39;00m \u001b[38;5;21mrun\u001b[39m(\u001b[38;5;28mself\u001b[39m):\n\u001b[1;32m    449\u001b[0m \u001b[38;5;250m    \u001b[39m\u001b[38;5;124;03m\"\"\"Run the DMRG simulation to find the ground state.\u001b[39;00m\n\u001b[1;32m    450\u001b[0m \n\u001b[1;32m    451\u001b[0m \u001b[38;5;124;03m    Returns\u001b[39;00m\n\u001b[0;32m   (...)\u001b[0m\n\u001b[1;32m    457\u001b[0m \u001b[38;5;124;03m        i.e. just a reference to :attr:`psi`.\u001b[39;00m\n\u001b[1;32m    458\u001b[0m \u001b[38;5;124;03m    \"\"\"\u001b[39;00m\n\u001b[0;32m--> 459\u001b[0m     \u001b[38;5;28;01mreturn\u001b[39;00m \u001b[38;5;28;43msuper\u001b[39;49m\u001b[43m(\u001b[49m\u001b[43m)\u001b[49m\u001b[38;5;241;43m.\u001b[39;49m\u001b[43mrun\u001b[49m\u001b[43m(\u001b[49m\u001b[43m)\u001b[49m\n",
      "File \u001b[0;32m~/Projects/default/lib/python3.12/site-packages/tenpy/algorithms/mps_common.py:779\u001b[0m, in \u001b[0;36mIterativeSweeps.run\u001b[0;34m(self)\u001b[0m\n\u001b[1;32m    777\u001b[0m \u001b[38;5;28;01mif\u001b[39;00m \u001b[38;5;129;01mnot\u001b[39;00m is_first_sweep:\n\u001b[1;32m    778\u001b[0m     \u001b[38;5;28mself\u001b[39m\u001b[38;5;241m.\u001b[39mcheckpoint\u001b[38;5;241m.\u001b[39memit(\u001b[38;5;28mself\u001b[39m)\n\u001b[0;32m--> 779\u001b[0m result \u001b[38;5;241m=\u001b[39m \u001b[38;5;28;43mself\u001b[39;49m\u001b[38;5;241;43m.\u001b[39;49m\u001b[43mrun_iteration\u001b[49m\u001b[43m(\u001b[49m\u001b[43m)\u001b[49m\n\u001b[1;32m    780\u001b[0m \u001b[38;5;28mself\u001b[39m\u001b[38;5;241m.\u001b[39mstatus_update(iteration_start_time\u001b[38;5;241m=\u001b[39miteration_start_time)\n\u001b[1;32m    781\u001b[0m is_first_sweep \u001b[38;5;241m=\u001b[39m \u001b[38;5;28;01mFalse\u001b[39;00m\n",
      "File \u001b[0;32m~/Projects/default/lib/python3.12/site-packages/tenpy/algorithms/dmrg.py:308\u001b[0m, in \u001b[0;36mDMRGEngine.run_iteration\u001b[0;34m(self)\u001b[0m\n\u001b[1;32m    306\u001b[0m \u001b[38;5;28;01mfor\u001b[39;00m i \u001b[38;5;129;01min\u001b[39;00m \u001b[38;5;28mrange\u001b[39m(\u001b[38;5;28mself\u001b[39m\u001b[38;5;241m.\u001b[39mN_sweeps_check \u001b[38;5;241m-\u001b[39m \u001b[38;5;241m1\u001b[39m):\n\u001b[1;32m    307\u001b[0m     \u001b[38;5;28mself\u001b[39m\u001b[38;5;241m.\u001b[39msweep(meas_E_trunc\u001b[38;5;241m=\u001b[39m\u001b[38;5;28;01mFalse\u001b[39;00m)\n\u001b[0;32m--> 308\u001b[0m max_trunc_err \u001b[38;5;241m=\u001b[39m \u001b[38;5;28;43mself\u001b[39;49m\u001b[38;5;241;43m.\u001b[39;49m\u001b[43msweep\u001b[49m\u001b[43m(\u001b[49m\u001b[43mmeas_E_trunc\u001b[49m\u001b[38;5;241;43m=\u001b[39;49m\u001b[38;5;28;43;01mTrue\u001b[39;49;00m\u001b[43m)\u001b[49m\n\u001b[1;32m    309\u001b[0m max_E_trunc \u001b[38;5;241m=\u001b[39m np\u001b[38;5;241m.\u001b[39mmax(\u001b[38;5;28mself\u001b[39m\u001b[38;5;241m.\u001b[39mE_trunc_list)\n\u001b[1;32m    311\u001b[0m \u001b[38;5;66;03m# update lanczos_params depending on truncation error(s)\u001b[39;00m\n",
      "File \u001b[0;32m~/Projects/default/lib/python3.12/site-packages/tenpy/algorithms/dmrg.py:544\u001b[0m, in \u001b[0;36mDMRGEngine.sweep\u001b[0;34m(self, optimize, meas_E_trunc)\u001b[0m\n\u001b[1;32m    538\u001b[0m \u001b[38;5;250m\u001b[39m\u001b[38;5;124;03m\"\"\"One 'sweep' of the algorithm.\u001b[39;00m\n\u001b[1;32m    539\u001b[0m \n\u001b[1;32m    540\u001b[0m \u001b[38;5;124;03mThin wrapper around :meth:`tenpy.algorithms.mps_common.Sweep.sweep` with one additional\u001b[39;00m\n\u001b[1;32m    541\u001b[0m \u001b[38;5;124;03mparameter `meas_E_trunc` specifying whether to measure truncation energies.\u001b[39;00m\n\u001b[1;32m    542\u001b[0m \u001b[38;5;124;03m\"\"\"\u001b[39;00m\n\u001b[1;32m    543\u001b[0m \u001b[38;5;28mself\u001b[39m\u001b[38;5;241m.\u001b[39m_meas_E_trunc \u001b[38;5;241m=\u001b[39m meas_E_trunc\n\u001b[0;32m--> 544\u001b[0m \u001b[38;5;28;01mreturn\u001b[39;00m \u001b[38;5;28;43msuper\u001b[39;49m\u001b[43m(\u001b[49m\u001b[43m)\u001b[49m\u001b[38;5;241;43m.\u001b[39;49m\u001b[43msweep\u001b[49m\u001b[43m(\u001b[49m\u001b[43moptimize\u001b[49m\u001b[43m)\u001b[49m\n",
      "File \u001b[0;32m~/Projects/default/lib/python3.12/site-packages/tenpy/algorithms/mps_common.py:379\u001b[0m, in \u001b[0;36mSweep.sweep\u001b[0;34m(self, optimize)\u001b[0m\n\u001b[1;32m    377\u001b[0m \u001b[38;5;66;03m# --------- the main work --------------\u001b[39;00m\n\u001b[1;32m    378\u001b[0m theta \u001b[38;5;241m=\u001b[39m \u001b[38;5;28mself\u001b[39m\u001b[38;5;241m.\u001b[39mprepare_update_local()\n\u001b[0;32m--> 379\u001b[0m update_data \u001b[38;5;241m=\u001b[39m \u001b[38;5;28;43mself\u001b[39;49m\u001b[38;5;241;43m.\u001b[39;49m\u001b[43mupdate_local\u001b[49m\u001b[43m(\u001b[49m\u001b[43mtheta\u001b[49m\u001b[43m,\u001b[49m\u001b[43m \u001b[49m\u001b[43moptimize\u001b[49m\u001b[38;5;241;43m=\u001b[39;49m\u001b[43moptimize\u001b[49m\u001b[43m)\u001b[49m\n\u001b[1;32m    380\u001b[0m \u001b[38;5;28mself\u001b[39m\u001b[38;5;241m.\u001b[39mupdate_env(\u001b[38;5;241m*\u001b[39m\u001b[38;5;241m*\u001b[39mupdate_data)\n\u001b[1;32m    381\u001b[0m \u001b[38;5;28mself\u001b[39m\u001b[38;5;241m.\u001b[39mpost_update_local(\u001b[38;5;241m*\u001b[39m\u001b[38;5;241m*\u001b[39mupdate_data)\n",
      "File \u001b[0;32m~/Projects/default/lib/python3.12/site-packages/tenpy/algorithms/dmrg.py:585\u001b[0m, in \u001b[0;36mDMRGEngine.update_local\u001b[0;34m(self, theta, optimize)\u001b[0m\n\u001b[1;32m    583\u001b[0m     E0, N, ov_change \u001b[38;5;241m=\u001b[39m \u001b[38;5;28;01mNone\u001b[39;00m, \u001b[38;5;241m0\u001b[39m, \u001b[38;5;241m0.\u001b[39m\n\u001b[1;32m    584\u001b[0m theta \u001b[38;5;241m=\u001b[39m \u001b[38;5;28mself\u001b[39m\u001b[38;5;241m.\u001b[39mprepare_svd(theta)\n\u001b[0;32m--> 585\u001b[0m U, S, VH, err, S_approx \u001b[38;5;241m=\u001b[39m \u001b[38;5;28;43mself\u001b[39;49m\u001b[38;5;241;43m.\u001b[39;49m\u001b[43mmixed_svd\u001b[49m\u001b[43m(\u001b[49m\u001b[43mtheta\u001b[49m\u001b[43m)\u001b[49m\n\u001b[1;32m    586\u001b[0m \u001b[38;5;28mself\u001b[39m\u001b[38;5;241m.\u001b[39m_entropy_approx[(i0 \u001b[38;5;241m+\u001b[39m n_opt \u001b[38;5;241m-\u001b[39m \u001b[38;5;241m1\u001b[39m) \u001b[38;5;241m%\u001b[39m \u001b[38;5;28mself\u001b[39m\u001b[38;5;241m.\u001b[39mpsi\u001b[38;5;241m.\u001b[39mL] \u001b[38;5;241m=\u001b[39m entropy(S_approx\u001b[38;5;241m*\u001b[39m\u001b[38;5;241m*\u001b[39m\u001b[38;5;241m2\u001b[39m)\n\u001b[1;32m    587\u001b[0m \u001b[38;5;28mself\u001b[39m\u001b[38;5;241m.\u001b[39mset_B(U, S, VH)\n",
      "File \u001b[0;32m~/Projects/default/lib/python3.12/site-packages/tenpy/algorithms/dmrg.py:998\u001b[0m, in \u001b[0;36mTwoSiteDMRGEngine.mixed_svd\u001b[0;34m(self, theta)\u001b[0m\n\u001b[1;32m    995\u001b[0m \u001b[38;5;28;01melse\u001b[39;00m:\n\u001b[1;32m    996\u001b[0m     qtotal_LR \u001b[38;5;241m=\u001b[39m [\u001b[38;5;28mself\u001b[39m\u001b[38;5;241m.\u001b[39mpsi\u001b[38;5;241m.\u001b[39mget_B(i0, form\u001b[38;5;241m=\u001b[39m\u001b[38;5;28;01mNone\u001b[39;00m)\u001b[38;5;241m.\u001b[39mqtotal,\n\u001b[1;32m    997\u001b[0m                  \u001b[38;5;28mself\u001b[39m\u001b[38;5;241m.\u001b[39mpsi\u001b[38;5;241m.\u001b[39mget_B(i0 \u001b[38;5;241m+\u001b[39m \u001b[38;5;241m1\u001b[39m, form\u001b[38;5;241m=\u001b[39m\u001b[38;5;28;01mNone\u001b[39;00m)\u001b[38;5;241m.\u001b[39mqtotal]\n\u001b[0;32m--> 998\u001b[0m     U, S, VH, err, S_a \u001b[38;5;241m=\u001b[39m \u001b[43mmixer\u001b[49m\u001b[38;5;241;43m.\u001b[39;49m\u001b[43mmix_and_decompose_2site\u001b[49m\u001b[43m(\u001b[49m\n\u001b[1;32m    999\u001b[0m \u001b[43m        \u001b[49m\u001b[43mengine\u001b[49m\u001b[38;5;241;43m=\u001b[39;49m\u001b[38;5;28;43mself\u001b[39;49m\u001b[43m,\u001b[49m\u001b[43m \u001b[49m\u001b[43mtheta\u001b[49m\u001b[38;5;241;43m=\u001b[39;49m\u001b[43mtheta\u001b[49m\u001b[43m,\u001b[49m\u001b[43m \u001b[49m\u001b[43mi0\u001b[49m\u001b[38;5;241;43m=\u001b[39;49m\u001b[38;5;28;43mself\u001b[39;49m\u001b[38;5;241;43m.\u001b[39;49m\u001b[43mi0\u001b[49m\u001b[43m,\u001b[49m\u001b[43m \u001b[49m\u001b[43mmix_left\u001b[49m\u001b[38;5;241;43m=\u001b[39;49m\u001b[43mupdate_LP\u001b[49m\u001b[43m,\u001b[49m\u001b[43m \u001b[49m\u001b[43mmix_right\u001b[49m\u001b[38;5;241;43m=\u001b[39;49m\u001b[43mupdate_RP\u001b[49m\u001b[43m,\u001b[49m\n\u001b[1;32m   1000\u001b[0m \u001b[43m        \u001b[49m\u001b[43mqtotal_LR\u001b[49m\u001b[38;5;241;43m=\u001b[39;49m\u001b[43mqtotal_LR\u001b[49m\n\u001b[1;32m   1001\u001b[0m \u001b[43m    \u001b[49m\u001b[43m)\u001b[49m\n\u001b[1;32m   1002\u001b[0m U\u001b[38;5;241m.\u001b[39mireplace_label(\u001b[38;5;124m'\u001b[39m\u001b[38;5;124m(vL.p0)\u001b[39m\u001b[38;5;124m'\u001b[39m, \u001b[38;5;124m'\u001b[39m\u001b[38;5;124m(vL.p)\u001b[39m\u001b[38;5;124m'\u001b[39m)\n\u001b[1;32m   1003\u001b[0m VH\u001b[38;5;241m.\u001b[39mireplace_label(\u001b[38;5;124m'\u001b[39m\u001b[38;5;124m(p1.vR)\u001b[39m\u001b[38;5;124m'\u001b[39m, \u001b[38;5;124m'\u001b[39m\u001b[38;5;124m(p.vR)\u001b[39m\u001b[38;5;124m'\u001b[39m)\n",
      "File \u001b[0;32m~/Projects/default/lib/python3.12/site-packages/tenpy/algorithms/mps_common.py:1724\u001b[0m, in \u001b[0;36mMixer.mix_and_decompose_2site\u001b[0;34m(self, engine, theta, i0, mix_left, mix_right, qtotal_LR)\u001b[0m\n\u001b[1;32m   1707\u001b[0m \u001b[38;5;250m\u001b[39m\u001b[38;5;124;03m\"\"\"Decompose two-site wavefunction and expand/mix enclosed bond(s).\u001b[39;00m\n\u001b[1;32m   1708\u001b[0m \n\u001b[1;32m   1709\u001b[0m \u001b[38;5;124;03mThis is a weaker version of :meth:`mixed_svd_2site`. The decomposition is also::\u001b[39;00m\n\u001b[0;32m   (...)\u001b[0m\n\u001b[1;32m   1721\u001b[0m \u001b[38;5;124;03mimplemented.\u001b[39;00m\n\u001b[1;32m   1722\u001b[0m \u001b[38;5;124;03m\"\"\"\u001b[39;00m\n\u001b[1;32m   1723\u001b[0m \u001b[38;5;28;01mtry\u001b[39;00m:\n\u001b[0;32m-> 1724\u001b[0m     \u001b[38;5;28;01mreturn\u001b[39;00m \u001b[38;5;28;43mself\u001b[39;49m\u001b[38;5;241;43m.\u001b[39;49m\u001b[43mmixed_svd_2site\u001b[49m\u001b[43m(\u001b[49m\u001b[43mengine\u001b[49m\u001b[43m,\u001b[49m\u001b[43m \u001b[49m\u001b[43mtheta\u001b[49m\u001b[43m,\u001b[49m\u001b[43m \u001b[49m\u001b[43mi0\u001b[49m\u001b[43m,\u001b[49m\u001b[43m \u001b[49m\u001b[43mmix_left\u001b[49m\u001b[43m,\u001b[49m\u001b[43m \u001b[49m\u001b[43mmix_right\u001b[49m\u001b[43m,\u001b[49m\u001b[43m \u001b[49m\u001b[43mqtotal_LR\u001b[49m\u001b[43m)\u001b[49m\n\u001b[1;32m   1725\u001b[0m \u001b[38;5;28;01mexcept\u001b[39;00m \u001b[38;5;167;01mNotImplementedError\u001b[39;00m:\n\u001b[1;32m   1726\u001b[0m     \u001b[38;5;28;01mpass\u001b[39;00m  \u001b[38;5;66;03m# fall back to using mix_and_decompose_1site\u001b[39;00m\n",
      "File \u001b[0;32m~/Projects/default/lib/python3.12/site-packages/tenpy/algorithms/mps_common.py:1886\u001b[0m, in \u001b[0;36mDensityMatrixMixer.mixed_svd_2site\u001b[0;34m(self, engine, theta, i0, mix_left, mix_right, qtotal_LR)\u001b[0m\n\u001b[1;32m   1883\u001b[0m \u001b[38;5;28;01mdef\u001b[39;00m \u001b[38;5;21mmixed_svd_2site\u001b[39m(\u001b[38;5;28mself\u001b[39m, engine: Sweep, theta: npc\u001b[38;5;241m.\u001b[39mArray, i0: \u001b[38;5;28mint\u001b[39m, mix_left: \u001b[38;5;28mbool\u001b[39m,\n\u001b[1;32m   1884\u001b[0m                     mix_right: \u001b[38;5;28mbool\u001b[39m, qtotal_LR\u001b[38;5;241m=\u001b[39m[\u001b[38;5;28;01mNone\u001b[39;00m, \u001b[38;5;28;01mNone\u001b[39;00m]):\n\u001b[1;32m   1885\u001b[0m     rho_L, rho_R \u001b[38;5;241m=\u001b[39m \u001b[38;5;28mself\u001b[39m\u001b[38;5;241m.\u001b[39mmix_rho(engine, theta, i0, mix_left, mix_right)\n\u001b[0;32m-> 1886\u001b[0m     \u001b[38;5;28;01mreturn\u001b[39;00m \u001b[38;5;28;43mself\u001b[39;49m\u001b[38;5;241;43m.\u001b[39;49m\u001b[43msvd_from_rho\u001b[49m\u001b[43m(\u001b[49m\u001b[43mengine\u001b[49m\u001b[43m,\u001b[49m\u001b[43m \u001b[49m\u001b[43mrho_L\u001b[49m\u001b[43m,\u001b[49m\u001b[43m \u001b[49m\u001b[43mrho_R\u001b[49m\u001b[43m,\u001b[49m\u001b[43m \u001b[49m\u001b[43mtheta\u001b[49m\u001b[43m,\u001b[49m\u001b[43m \u001b[49m\u001b[43mqtotal_LR\u001b[49m\u001b[43m)\u001b[49m\n",
      "File \u001b[0;32m~/Projects/default/lib/python3.12/site-packages/tenpy/algorithms/mps_common.py:1976\u001b[0m, in \u001b[0;36mDensityMatrixMixer.svd_from_rho\u001b[0;34m(self, engine, rho_L, rho_R, theta, qtotal_LR)\u001b[0m\n\u001b[1;32m   1973\u001b[0m     U \u001b[38;5;241m=\u001b[39m U\u001b[38;5;241m.\u001b[39mgauge_total_charge(\u001b[38;5;241m1\u001b[39m, qtotal_LR[\u001b[38;5;241m0\u001b[39m])\n\u001b[1;32m   1974\u001b[0m \u001b[38;5;66;03m# rho_R ~=  theta^T theta^* = V^* S U^T U* S V^T = V^* S S V^T  (for mixer -> 0)\u001b[39;00m\n\u001b[1;32m   1975\u001b[0m \u001b[38;5;66;03m# Thus, rho_R V^* = V^* S S, i.e. columns of V^* are eigenvectors of rho_R\u001b[39;00m\n\u001b[0;32m-> 1976\u001b[0m val_R, Vc \u001b[38;5;241m=\u001b[39m \u001b[43mnpc\u001b[49m\u001b[38;5;241;43m.\u001b[39;49m\u001b[43meigh\u001b[49m\u001b[43m(\u001b[49m\u001b[43mrho_R\u001b[49m\u001b[43m)\u001b[49m\n\u001b[1;32m   1977\u001b[0m Vc\u001b[38;5;241m.\u001b[39miset_leg_labels([\u001b[38;5;124m'\u001b[39m\u001b[38;5;124m(p1.vR)\u001b[39m\u001b[38;5;124m'\u001b[39m, \u001b[38;5;124m'\u001b[39m\u001b[38;5;124mvL\u001b[39m\u001b[38;5;124m'\u001b[39m])\n\u001b[1;32m   1978\u001b[0m VH \u001b[38;5;241m=\u001b[39m Vc\u001b[38;5;241m.\u001b[39mitranspose([\u001b[38;5;124m'\u001b[39m\u001b[38;5;124mvL\u001b[39m\u001b[38;5;124m'\u001b[39m, \u001b[38;5;124m'\u001b[39m\u001b[38;5;124m(p1.vR)\u001b[39m\u001b[38;5;124m'\u001b[39m])\n",
      "File \u001b[0;32m~/Projects/default/lib/python3.12/site-packages/tenpy/linalg/np_conserved.py:3757\u001b[0m, in \u001b[0;36meigh\u001b[0;34m(a, UPLO, sort)\u001b[0m\n\u001b[1;32m   3725\u001b[0m \u001b[38;5;28;01mdef\u001b[39;00m \u001b[38;5;21meigh\u001b[39m(a, UPLO\u001b[38;5;241m=\u001b[39m\u001b[38;5;124m'\u001b[39m\u001b[38;5;124mL\u001b[39m\u001b[38;5;124m'\u001b[39m, sort\u001b[38;5;241m=\u001b[39m\u001b[38;5;28;01mNone\u001b[39;00m):\n\u001b[1;32m   3726\u001b[0m \u001b[38;5;250m    \u001b[39m\u001b[38;5;124mr\u001b[39m\u001b[38;5;124;03m\"\"\"Calculate eigenvalues and eigenvectors for a hermitian matrix.\u001b[39;00m\n\u001b[1;32m   3727\u001b[0m \n\u001b[1;32m   3728\u001b[0m \u001b[38;5;124;03m    ``W, V = eigh(a)`` yields :math:`a = V diag(w) V^{\\dagger}`.\u001b[39;00m\n\u001b[0;32m   (...)\u001b[0m\n\u001b[1;32m   3755\u001b[0m \u001b[38;5;124;03m    :math:`V = P^{-1} V'` such that :math:`a = V W V^{\\dagger}`.\u001b[39;00m\n\u001b[1;32m   3756\u001b[0m \u001b[38;5;124;03m    \"\"\"\u001b[39;00m\n\u001b[0;32m-> 3757\u001b[0m     w, v \u001b[38;5;241m=\u001b[39m \u001b[43m_eig_worker\u001b[49m\u001b[43m(\u001b[49m\u001b[38;5;28;43;01mTrue\u001b[39;49;00m\u001b[43m,\u001b[49m\u001b[43m \u001b[49m\u001b[43ma\u001b[49m\u001b[43m,\u001b[49m\u001b[43m \u001b[49m\u001b[43msort\u001b[49m\u001b[43m,\u001b[49m\u001b[43m \u001b[49m\u001b[43mUPLO\u001b[49m\u001b[43m)\u001b[49m  \u001b[38;5;66;03m# hermitian\u001b[39;00m\n\u001b[1;32m   3758\u001b[0m     v\u001b[38;5;241m.\u001b[39miset_leg_labels([a\u001b[38;5;241m.\u001b[39m_labels[\u001b[38;5;241m0\u001b[39m], \u001b[38;5;124m'\u001b[39m\u001b[38;5;124meig\u001b[39m\u001b[38;5;124m'\u001b[39m])\n\u001b[1;32m   3759\u001b[0m     \u001b[38;5;28;01mreturn\u001b[39;00m w, v\n",
      "File \u001b[0;32m~/Projects/default/lib/python3.12/site-packages/tenpy/linalg/np_conserved.py:4860\u001b[0m, in \u001b[0;36m_eig_worker\u001b[0;34m(hermitian, a, sort, UPLO)\u001b[0m\n\u001b[1;32m   4858\u001b[0m \u001b[38;5;28;01mfor\u001b[39;00m qindices, block \u001b[38;5;129;01min\u001b[39;00m \u001b[38;5;28mzip\u001b[39m(a\u001b[38;5;241m.\u001b[39m_qdata, a\u001b[38;5;241m.\u001b[39m_data):  \u001b[38;5;66;03m# non-zero blocks on the diagonal\u001b[39;00m\n\u001b[1;32m   4859\u001b[0m     \u001b[38;5;28;01mif\u001b[39;00m hermitian:\n\u001b[0;32m-> 4860\u001b[0m         rw, rv \u001b[38;5;241m=\u001b[39m \u001b[43mnp\u001b[49m\u001b[38;5;241;43m.\u001b[39;49m\u001b[43mlinalg\u001b[49m\u001b[38;5;241;43m.\u001b[39;49m\u001b[43meigh\u001b[49m\u001b[43m(\u001b[49m\u001b[43mblock\u001b[49m\u001b[43m,\u001b[49m\u001b[43m \u001b[49m\u001b[43mUPLO\u001b[49m\u001b[43m)\u001b[49m\n\u001b[1;32m   4861\u001b[0m     \u001b[38;5;28;01melse\u001b[39;00m:\n\u001b[1;32m   4862\u001b[0m         rw, rv \u001b[38;5;241m=\u001b[39m np\u001b[38;5;241m.\u001b[39mlinalg\u001b[38;5;241m.\u001b[39meig(block)\n",
      "File \u001b[0;32m~/Projects/default/lib/python3.12/site-packages/numpy/linalg/linalg.py:1487\u001b[0m, in \u001b[0;36meigh\u001b[0;34m(a, UPLO)\u001b[0m\n\u001b[1;32m   1484\u001b[0m     gufunc \u001b[38;5;241m=\u001b[39m _umath_linalg\u001b[38;5;241m.\u001b[39meigh_up\n\u001b[1;32m   1486\u001b[0m signature \u001b[38;5;241m=\u001b[39m \u001b[38;5;124m'\u001b[39m\u001b[38;5;124mD->dD\u001b[39m\u001b[38;5;124m'\u001b[39m \u001b[38;5;28;01mif\u001b[39;00m isComplexType(t) \u001b[38;5;28;01melse\u001b[39;00m \u001b[38;5;124m'\u001b[39m\u001b[38;5;124md->dd\u001b[39m\u001b[38;5;124m'\u001b[39m\n\u001b[0;32m-> 1487\u001b[0m w, vt \u001b[38;5;241m=\u001b[39m \u001b[43mgufunc\u001b[49m\u001b[43m(\u001b[49m\u001b[43ma\u001b[49m\u001b[43m,\u001b[49m\u001b[43m \u001b[49m\u001b[43msignature\u001b[49m\u001b[38;5;241;43m=\u001b[39;49m\u001b[43msignature\u001b[49m\u001b[43m,\u001b[49m\u001b[43m \u001b[49m\u001b[43mextobj\u001b[49m\u001b[38;5;241;43m=\u001b[39;49m\u001b[43mextobj\u001b[49m\u001b[43m)\u001b[49m\n\u001b[1;32m   1488\u001b[0m w \u001b[38;5;241m=\u001b[39m w\u001b[38;5;241m.\u001b[39mastype(_realType(result_t), copy\u001b[38;5;241m=\u001b[39m\u001b[38;5;28;01mFalse\u001b[39;00m)\n\u001b[1;32m   1489\u001b[0m vt \u001b[38;5;241m=\u001b[39m vt\u001b[38;5;241m.\u001b[39mastype(result_t, copy\u001b[38;5;241m=\u001b[39m\u001b[38;5;28;01mFalse\u001b[39;00m)\n",
      "\u001b[0;31mKeyboardInterrupt\u001b[0m: "
     ]
    }
   ],
   "source": [
    "# Example usage:\n",
    "U = 4.0  # on-site interaction strength\n",
    "t = 1.0  # hopping term\n",
    "k_num = 10\n",
    "mu = U/2 # chemical potential\n",
    "chi_max = 600  # max bond dimension\n",
    "sweeps = 100  # number of DMRG sweeps\n",
    "\n",
    "U_list = np.array([0.1, 0.2, 0.5, 1, 2, 4, 6, 8])\n",
    "norb_list = np.array([10])\n",
    "\n",
    "time_list = np.zeros(shape=(len(U_list), len(norb_list)))\n",
    "raw_energy_dat = np.zeros(shape=(len(U_list), len(norb_list), 2, k_num))\n",
    "\n",
    "for i, U in enumerate(U_list):\n",
    "    for j, norb in enumerate(norb_list):\n",
    "        mu = U/2\n",
    "        st_time = time.time()\n",
    "        energy_arr = np.zeros(k_num)\n",
    "        for kx in range(-int(k_num/2), int(k_num/2)):\n",
    "            t_star = np.exp(1j*kx/k_num*np.pi)\n",
    "            raw_energy_dat[i,j,0,kx+int(k_num/2)] = run_dmrg_half_filling(norb, U, t_star, mu, chi_max, sweeps,charge=0)\n",
    "            raw_energy_dat[i,j,1,kx+int(k_num/2)] = run_dmrg_half_filling(norb, U, t_star, mu, chi_max, sweeps,charge=1)\n",
    "\n",
    "        twist_avg_energy[i, j] = energy_arr.mean()\n",
    "        time_list[i, j] = time.time() - st_time\n",
    "        print(U, norb, time_list[i,j]/60)"
   ]
  },
  {
   "cell_type": "code",
   "execution_count": 33,
   "id": "9d9cca06",
   "metadata": {},
   "outputs": [],
   "source": [
    "data_dict = {}\n",
    "data_dict['U_list'] = U_list\n",
    "data_dict['norb_list'] = norb_list\n",
    "data_dict['charge_gap'] = twist_avg_energy\n",
    "\n",
    "\n",
    "\n",
    "# Your dictionary\n",
    "\n",
    "# Saving the dictionary to a pickle file\n",
    "#with open('Charge_gap_OHK_set3.pkl', 'wb') as file:\n",
    "#    pickle.dump(data_dict, file)"
   ]
  },
  {
   "cell_type": "code",
   "execution_count": 35,
   "id": "c96c5f0c",
   "metadata": {},
   "outputs": [
    {
     "data": {
      "text/plain": [
       "<matplotlib.legend.Legend at 0x179123ba650>"
      ]
     },
     "execution_count": 35,
     "metadata": {},
     "output_type": "execute_result"
    },
    {
     "data": {
      "image/png": "[encoded data removed]",
      "text/plain": [
       "<Figure size 640x480 with 1 Axes>"
      ]
     },
     "metadata": {},
     "output_type": "display_data"
    }
   ],
   "source": [
    "\n",
    "\n",
    "for i, norb in enumerate(norb_list): \n",
    "    plt.scatter(U_list, twist_avg_energy[:, i]/2, label='norb='+str(norb))\n",
    "    \n",
    "plt.title(\"DMRG for 1D Hubbard\")\n",
    "plt.xlabel(\"U\")\n",
    "plt.ylabel(\"Charge Gap\")\n",
    "#plt.yscale('log')\n",
    "plt.legend()"
   ]
  },
  {
   "cell_type": "code",
   "execution_count": null,
   "id": "a52876c5",
   "metadata": {},
   "outputs": [],
   "source": []
  }
 ],
 "metadata": {
  "kernelspec": {
   "display_name": "Python 3 (ipykernel)",
   "language": "python",
   "name": "python3"
  },
  "language_info": {
   "codemirror_mode": {
    "name": "ipython",
    "version": 3
   },
   "file_extension": ".py",
   "mimetype": "text/x-python",
   "name": "python",
   "nbconvert_exporter": "python",
   "pygments_lexer": "ipython3",
   "version": "3.12.3"
  }
 },
 "nbformat": 4,
 "nbformat_minor": 5
}
