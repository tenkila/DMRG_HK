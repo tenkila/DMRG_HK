{
 "cells": [
  {
   "cell_type": "code",
   "execution_count": 6,
   "id": "86dd7e71-b2b5-4661-8755-0c243511daa2",
   "metadata": {},
   "outputs": [],
   "source": [
    "import numpy as np\n",
    "from tenpy.networks.mps import MPS\n",
    "from tenpy.models.hubbard import FermiHubbardModel\n",
    "from tenpy.algorithms import dmrg\n",
    "import matplotlib.pyplot as plt"
   ]
  },
  {
   "cell_type": "code",
   "execution_count": 20,
   "id": "53ad1893-1764-4a45-91b1-883156013197",
   "metadata": {},
   "outputs": [],
   "source": [
    "def run_dmrg_OBC(L, U, t, mu, chi_max, sweeps):\n",
    "    model_params = {\n",
    "        'L': L,\n",
    "        'U': U,\n",
    "        't': t,\n",
    "        'mu': mu,\n",
    "        'bc_MPS': 'finite',\n",
    "    }\n",
    "\n",
    "    model = FermiHubbardModel(model_params)\n",
    "    # Example change: initializing with an alternating pattern of filled and empty sites\n",
    "    initial_state = ['up', 'down'] * (L // 2) if L % 2 == 0 else ['up', 'down'] * (L // 2) + ['up']\n",
    "    psi = MPS.from_product_state(model.lat.mps_sites(), initial_state, bc='finite')\n",
    "\n",
    "    dmrg_params = {\n",
    "        'mixer': True,\n",
    "        'trunc_params': {\n",
    "            'chi_max': chi_max,\n",
    "            'svd_min': 1.e-10\n",
    "        },\n",
    "        'max_sweeps': sweeps,\n",
    "    }\n",
    "\n",
    "    eng = dmrg.TwoSiteDMRGEngine(psi, model, dmrg_params)\n",
    "    E0, psi = eng.run()\n",
    "    return E0, psi\n",
    "\n",
    "def run_dmrg_PBC(L, U, t, mu, chi_max, sweeps, hc_flag=False):\n",
    "    model_params = {\n",
    "        'L': L,\n",
    "        'U': U,\n",
    "        't':t,\n",
    "        'mu': mu,\n",
    "        'bc_MPS': 'finite',\n",
    "        'bc_x':'periodic',\n",
    "        'explicit_plus_hc':hc_flag\n",
    "    }\n",
    "\n",
    "    model = FermiHubbardModel(model_params)\n",
    "\n",
    "    # Initialize the MPS for half-filling with an alternating pattern of up and down spins\n",
    "    initial_state = ['up', 'down'] * (L // 2) if L % 2 == 0 else ['up', 'down'] * (L // 2) + ['up']\n",
    "    psi = MPS.from_product_state(model.lat.mps_sites(), initial_state, bc='finite')\n",
    "\n",
    "    dmrg_params = {\n",
    "        'mixer': True,  # Enables mixing for better convergence in difficult phases\n",
    "        'trunc_params': {\n",
    "            'chi_max': chi_max,\n",
    "            'svd_min': 1.e-10\n",
    "        },\n",
    "        'max_sweeps': sweeps,\n",
    "    }\n",
    "\n",
    "    eng = dmrg.TwoSiteDMRGEngine(psi, model, dmrg_params)\n",
    "    E0, psi = eng.run()\n",
    "\n",
    "    return E0, psi\n"
   ]
  },
  {
   "cell_type": "code",
   "execution_count": 28,
   "id": "be463311-37b3-47da-ad0d-370e16f8d1c7",
   "metadata": {},
   "outputs": [
    {
     "name": "stdout",
     "output_type": "stream",
     "text": [
      "4\n",
      "6\n",
      "8\n",
      "10\n"
     ]
    }
   ],
   "source": [
    "U = 4.0  # on-site interaction strength\n",
    "t = 1.0  # hopping term\n",
    "mu = 2.0  # chemical potential\n",
    "chi_max = 200  # max bond dimension\n",
    "sweeps = 100  # number of DMRG sweeps\n",
    "\n",
    "L_list = np.array([4, 6, 8, 10])\n",
    "overlap_vals = np.zeros_like(L_list).astype(float)\n",
    "\n",
    "for i, L in enumerate(L_list):\n",
    "    _, psi_OBC = run_dmrg_OBC(L, U, t, mu, chi_max, sweeps)\n",
    "    _, psi_PBC = run_dmrg_PBC(L, U, t, mu, chi_max, sweeps)\n",
    "    overlap_vals[i] = psi_OBC.overlap(psi_PBC)\n",
    "    print(L)"
   ]
  },
  {
   "cell_type": "code",
   "execution_count": 29,
   "id": "af291b29-a8c6-4c60-a617-0dfee4d610f1",
   "metadata": {},
   "outputs": [
    {
     "data": {
      "text/plain": [
       "<matplotlib.collections.PathCollection at 0x786affdfc530>"
      ]
     },
     "execution_count": 29,
     "metadata": {},
     "output_type": "execute_result"
    },
    {
     "data": {
      "image/png": "[encoded data removed]",
      "text/plain": [
       "<Figure size 640x480 with 1 Axes>"
      ]
     },
     "metadata": {},
     "output_type": "display_data"
    }
   ],
   "source": [
    "plt.scatter(L_list, np.abs(overlap_vals))"
   ]
  },
  {
   "cell_type": "code",
   "execution_count": 21,
   "id": "7a1d832f-ee6b-475a-a923-c3d487457977",
   "metadata": {},
   "outputs": [],
   "source": [
    "U = 4.0  # on-site interaction strength\n",
    "t = 1.0  # hopping term\n",
    "mu = 2.0  # chemical potential\n",
    "chi_max = 200  # max bond dimension\n",
    "sweeps = 50  # number of DMRG sweeps\n",
    "L = 5\n",
    "\n",
    "_, psi_OBC = run_dmrg_OBC(L, U, t, mu, chi_max, sweeps)\n",
    "_, psi_PBC = run_dmrg_PBC(L, U, t, mu, chi_max, sweeps)"
   ]
  },
  {
   "cell_type": "code",
   "execution_count": 22,
   "id": "2321a854-2315-4903-8d28-cb8f66252ea6",
   "metadata": {},
   "outputs": [
    {
     "data": {
      "text/plain": [
       "-0.9046886142549343"
      ]
     },
     "execution_count": 22,
     "metadata": {},
     "output_type": "execute_result"
    }
   ],
   "source": [
    "psi_OBC.overlap(psi_PBC)"
   ]
  },
  {
   "cell_type": "code",
   "execution_count": null,
   "id": "7c0a9c37-cda0-476f-9a50-1c1c5e146102",
   "metadata": {},
   "outputs": [],
   "source": []
  }
 ],
 "metadata": {
  "kernelspec": {
   "display_name": "Python 3 (ipykernel)",
   "language": "python",
   "name": "python3"
  },
  "language_info": {
   "codemirror_mode": {
    "name": "ipython",
    "version": 3
   },
   "file_extension": ".py",
   "mimetype": "text/x-python",
   "name": "python",
   "nbconvert_exporter": "python",
   "pygments_lexer": "ipython3",
   "version": "3.12.3"
  }
 },
 "nbformat": 4,
 "nbformat_minor": 5
}
